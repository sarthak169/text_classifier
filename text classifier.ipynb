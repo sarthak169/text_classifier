{
 "cells": [
  {
   "cell_type": "markdown",
   "metadata": {},
   "source": [
    "# Text Classification\n",
    "\n",
    "\n",
    "The solution is divided into the following sections:\n",
    "\n",
    "- Data understanding and exploration\n",
    "- Data Preprocessing\n",
    "- Data preparation\n",
    "- Model building and evaluation"
   ]
  },
  {
   "cell_type": "markdown",
   "metadata": {},
   "source": [
    "## Data Understanding  And Exploration\n",
    "Let's first have a look at the dataset and understand the size, attribute names etc."
   ]
  },
  {
   "cell_type": "code",
   "execution_count": 1,
   "metadata": {},
   "outputs": [],
   "source": [
    "import numpy as np\n",
    "import pandas as pd\n",
    "import matplotlib.pyplot as plt\n",
    "import seaborn as sns\n",
    "import re\n",
    "# In this step we include all the necessary libraries required"
   ]
  },
  {
   "cell_type": "code",
   "execution_count": 2,
   "metadata": {},
   "outputs": [
    {
     "data": {
      "text/html": [
       "<div>\n",
       "<style scoped>\n",
       "    .dataframe tbody tr th:only-of-type {\n",
       "        vertical-align: middle;\n",
       "    }\n",
       "\n",
       "    .dataframe tbody tr th {\n",
       "        vertical-align: top;\n",
       "    }\n",
       "\n",
       "    .dataframe thead th {\n",
       "        text-align: right;\n",
       "    }\n",
       "</style>\n",
       "<table border=\"1\" class=\"dataframe\">\n",
       "  <thead>\n",
       "    <tr style=\"text-align: right;\">\n",
       "      <th></th>\n",
       "      <th>category</th>\n",
       "      <th>text</th>\n",
       "    </tr>\n",
       "  </thead>\n",
       "  <tbody>\n",
       "    <tr>\n",
       "      <th>0</th>\n",
       "      <td>tech</td>\n",
       "      <td>tv future in the hands of viewers with home th...</td>\n",
       "    </tr>\n",
       "    <tr>\n",
       "      <th>1</th>\n",
       "      <td>business</td>\n",
       "      <td>worldcom boss  left books alone  former worldc...</td>\n",
       "    </tr>\n",
       "    <tr>\n",
       "      <th>2</th>\n",
       "      <td>sport</td>\n",
       "      <td>tigers wary of farrell  gamble  leicester say ...</td>\n",
       "    </tr>\n",
       "    <tr>\n",
       "      <th>3</th>\n",
       "      <td>sport</td>\n",
       "      <td>yeading face newcastle in fa cup premiership s...</td>\n",
       "    </tr>\n",
       "    <tr>\n",
       "      <th>4</th>\n",
       "      <td>entertainment</td>\n",
       "      <td>ocean s twelve raids box office ocean s twelve...</td>\n",
       "    </tr>\n",
       "  </tbody>\n",
       "</table>\n",
       "</div>"
      ],
      "text/plain": [
       "        category                                               text\n",
       "0           tech  tv future in the hands of viewers with home th...\n",
       "1       business  worldcom boss  left books alone  former worldc...\n",
       "2          sport  tigers wary of farrell  gamble  leicester say ...\n",
       "3          sport  yeading face newcastle in fa cup premiership s...\n",
       "4  entertainment  ocean s twelve raids box office ocean s twelve..."
      ]
     },
     "execution_count": 2,
     "metadata": {},
     "output_type": "execute_result"
    }
   ],
   "source": [
    " data=pd.read_csv(\"bbc-text.csv\")\n",
    "data.head()"
   ]
  },
  {
   "cell_type": "markdown",
   "metadata": {},
   "source": [
    "Since the data is in string format we need to typecast columns like Category to integer."
   ]
  },
  {
   "cell_type": "code",
   "execution_count": 38,
   "metadata": {},
   "outputs": [],
   "source": [
    "from sklearn.preprocessing import LabelEncoder\n",
    "\n",
    "le = LabelEncoder()\n",
    "data['category'] = le.fit_transform(data['category'])\n",
    "# here we typecast the classes in category to integer"
   ]
  },
  {
   "cell_type": "code",
   "execution_count": 4,
   "metadata": {},
   "outputs": [
    {
     "data": {
      "text/html": [
       "<div>\n",
       "<style scoped>\n",
       "    .dataframe tbody tr th:only-of-type {\n",
       "        vertical-align: middle;\n",
       "    }\n",
       "\n",
       "    .dataframe tbody tr th {\n",
       "        vertical-align: top;\n",
       "    }\n",
       "\n",
       "    .dataframe thead th {\n",
       "        text-align: right;\n",
       "    }\n",
       "</style>\n",
       "<table border=\"1\" class=\"dataframe\">\n",
       "  <thead>\n",
       "    <tr style=\"text-align: right;\">\n",
       "      <th></th>\n",
       "      <th>category</th>\n",
       "      <th>text</th>\n",
       "    </tr>\n",
       "  </thead>\n",
       "  <tbody>\n",
       "    <tr>\n",
       "      <th>0</th>\n",
       "      <td>4</td>\n",
       "      <td>tv future in the hands of viewers with home th...</td>\n",
       "    </tr>\n",
       "    <tr>\n",
       "      <th>1</th>\n",
       "      <td>0</td>\n",
       "      <td>worldcom boss  left books alone  former worldc...</td>\n",
       "    </tr>\n",
       "    <tr>\n",
       "      <th>2</th>\n",
       "      <td>3</td>\n",
       "      <td>tigers wary of farrell  gamble  leicester say ...</td>\n",
       "    </tr>\n",
       "    <tr>\n",
       "      <th>3</th>\n",
       "      <td>3</td>\n",
       "      <td>yeading face newcastle in fa cup premiership s...</td>\n",
       "    </tr>\n",
       "    <tr>\n",
       "      <th>4</th>\n",
       "      <td>1</td>\n",
       "      <td>ocean s twelve raids box office ocean s twelve...</td>\n",
       "    </tr>\n",
       "    <tr>\n",
       "      <th>5</th>\n",
       "      <td>2</td>\n",
       "      <td>howard hits back at mongrel jibe michael howar...</td>\n",
       "    </tr>\n",
       "    <tr>\n",
       "      <th>6</th>\n",
       "      <td>2</td>\n",
       "      <td>blair prepares to name poll date tony blair is...</td>\n",
       "    </tr>\n",
       "    <tr>\n",
       "      <th>7</th>\n",
       "      <td>3</td>\n",
       "      <td>henman hopes ended in dubai third seed tim hen...</td>\n",
       "    </tr>\n",
       "    <tr>\n",
       "      <th>8</th>\n",
       "      <td>3</td>\n",
       "      <td>wilkinson fit to face edinburgh england captai...</td>\n",
       "    </tr>\n",
       "    <tr>\n",
       "      <th>9</th>\n",
       "      <td>1</td>\n",
       "      <td>last star wars  not for children  the sixth an...</td>\n",
       "    </tr>\n",
       "    <tr>\n",
       "      <th>10</th>\n",
       "      <td>1</td>\n",
       "      <td>berlin cheers for anti-nazi film a german movi...</td>\n",
       "    </tr>\n",
       "    <tr>\n",
       "      <th>11</th>\n",
       "      <td>0</td>\n",
       "      <td>virgin blue shares plummet 20% shares in austr...</td>\n",
       "    </tr>\n",
       "    <tr>\n",
       "      <th>12</th>\n",
       "      <td>0</td>\n",
       "      <td>crude oil prices back above $50 cold weather a...</td>\n",
       "    </tr>\n",
       "    <tr>\n",
       "      <th>13</th>\n",
       "      <td>2</td>\n",
       "      <td>hague  given up  his pm ambition former conser...</td>\n",
       "    </tr>\n",
       "    <tr>\n",
       "      <th>14</th>\n",
       "      <td>3</td>\n",
       "      <td>moya emotional after davis cup win carlos moya...</td>\n",
       "    </tr>\n",
       "    <tr>\n",
       "      <th>15</th>\n",
       "      <td>0</td>\n",
       "      <td>s korean credit card firm rescued south korea ...</td>\n",
       "    </tr>\n",
       "    <tr>\n",
       "      <th>16</th>\n",
       "      <td>2</td>\n",
       "      <td>howard backs stem cell research michael howard...</td>\n",
       "    </tr>\n",
       "    <tr>\n",
       "      <th>17</th>\n",
       "      <td>3</td>\n",
       "      <td>connors boost for british tennis former world ...</td>\n",
       "    </tr>\n",
       "    <tr>\n",
       "      <th>18</th>\n",
       "      <td>0</td>\n",
       "      <td>japanese banking battle at an end japan s sumi...</td>\n",
       "    </tr>\n",
       "    <tr>\n",
       "      <th>19</th>\n",
       "      <td>4</td>\n",
       "      <td>games maker fights for survival one of britain...</td>\n",
       "    </tr>\n",
       "    <tr>\n",
       "      <th>20</th>\n",
       "      <td>4</td>\n",
       "      <td>security warning over  fbi virus  the us feder...</td>\n",
       "    </tr>\n",
       "    <tr>\n",
       "      <th>21</th>\n",
       "      <td>4</td>\n",
       "      <td>halo 2 heralds traffic explosion the growing p...</td>\n",
       "    </tr>\n",
       "    <tr>\n",
       "      <th>22</th>\n",
       "      <td>3</td>\n",
       "      <td>bates seals takeover ken bates has completed h...</td>\n",
       "    </tr>\n",
       "    <tr>\n",
       "      <th>23</th>\n",
       "      <td>3</td>\n",
       "      <td>cole faces lengthy injury lay-off aston villa ...</td>\n",
       "    </tr>\n",
       "    <tr>\n",
       "      <th>24</th>\n",
       "      <td>4</td>\n",
       "      <td>mobile audio enters new dimension as mobile ph...</td>\n",
       "    </tr>\n",
       "    <tr>\n",
       "      <th>25</th>\n",
       "      <td>3</td>\n",
       "      <td>moya fights back for indian title carlos moya ...</td>\n",
       "    </tr>\n",
       "    <tr>\n",
       "      <th>26</th>\n",
       "      <td>1</td>\n",
       "      <td>career honour for actor dicaprio actor leonard...</td>\n",
       "    </tr>\n",
       "    <tr>\n",
       "      <th>27</th>\n",
       "      <td>4</td>\n",
       "      <td>mobile gig aims to rock 3g forget about going ...</td>\n",
       "    </tr>\n",
       "    <tr>\n",
       "      <th>28</th>\n",
       "      <td>2</td>\n",
       "      <td>terror suspects face house arrest uk citizens ...</td>\n",
       "    </tr>\n",
       "    <tr>\n",
       "      <th>29</th>\n",
       "      <td>1</td>\n",
       "      <td>halloween writer debra hill dies screenwriter ...</td>\n",
       "    </tr>\n",
       "    <tr>\n",
       "      <th>...</th>\n",
       "      <td>...</td>\n",
       "      <td>...</td>\n",
       "    </tr>\n",
       "    <tr>\n",
       "      <th>2195</th>\n",
       "      <td>3</td>\n",
       "      <td>owen delighted with real display michael owen ...</td>\n",
       "    </tr>\n",
       "    <tr>\n",
       "      <th>2196</th>\n",
       "      <td>0</td>\n",
       "      <td>gm issues 2005 profits warning general motors ...</td>\n",
       "    </tr>\n",
       "    <tr>\n",
       "      <th>2197</th>\n",
       "      <td>2</td>\n",
       "      <td>campbell returns to election team ex-downing s...</td>\n",
       "    </tr>\n",
       "    <tr>\n",
       "      <th>2198</th>\n",
       "      <td>0</td>\n",
       "      <td>asian banks halt dollar s slide the dollar reg...</td>\n",
       "    </tr>\n",
       "    <tr>\n",
       "      <th>2199</th>\n",
       "      <td>0</td>\n",
       "      <td>wall street cool to ebay s profit shares in on...</td>\n",
       "    </tr>\n",
       "    <tr>\n",
       "      <th>2200</th>\n",
       "      <td>4</td>\n",
       "      <td>uk pioneers digital film network the world s f...</td>\n",
       "    </tr>\n",
       "    <tr>\n",
       "      <th>2201</th>\n",
       "      <td>0</td>\n",
       "      <td>ban on forced retirement under 65 employers wi...</td>\n",
       "    </tr>\n",
       "    <tr>\n",
       "      <th>2202</th>\n",
       "      <td>4</td>\n",
       "      <td>local net tv takes off in austria an austrian ...</td>\n",
       "    </tr>\n",
       "    <tr>\n",
       "      <th>2203</th>\n",
       "      <td>2</td>\n",
       "      <td>profile: david miliband david miliband s rapid...</td>\n",
       "    </tr>\n",
       "    <tr>\n",
       "      <th>2204</th>\n",
       "      <td>4</td>\n",
       "      <td>argonaut founder rebuilds empire jez san  the ...</td>\n",
       "    </tr>\n",
       "    <tr>\n",
       "      <th>2205</th>\n",
       "      <td>1</td>\n",
       "      <td>dance music not dead says fatboy dj norman coo...</td>\n",
       "    </tr>\n",
       "    <tr>\n",
       "      <th>2206</th>\n",
       "      <td>2</td>\n",
       "      <td>kennedy questions trust of blair lib dem leade...</td>\n",
       "    </tr>\n",
       "    <tr>\n",
       "      <th>2207</th>\n",
       "      <td>4</td>\n",
       "      <td>california sets fines for spyware the makers o...</td>\n",
       "    </tr>\n",
       "    <tr>\n",
       "      <th>2208</th>\n",
       "      <td>1</td>\n",
       "      <td>snicket tops us box office chart the film adap...</td>\n",
       "    </tr>\n",
       "    <tr>\n",
       "      <th>2209</th>\n",
       "      <td>3</td>\n",
       "      <td>time to get tough on friendlies  for an intern...</td>\n",
       "    </tr>\n",
       "    <tr>\n",
       "      <th>2210</th>\n",
       "      <td>2</td>\n",
       "      <td>teens  know little  of politics teenagers ques...</td>\n",
       "    </tr>\n",
       "    <tr>\n",
       "      <th>2211</th>\n",
       "      <td>1</td>\n",
       "      <td>lopez misses uk charity premiere jennifer lope...</td>\n",
       "    </tr>\n",
       "    <tr>\n",
       "      <th>2212</th>\n",
       "      <td>0</td>\n",
       "      <td>christmas shoppers flock to tills shops all ov...</td>\n",
       "    </tr>\n",
       "    <tr>\n",
       "      <th>2213</th>\n",
       "      <td>4</td>\n",
       "      <td>progress on new internet domains by early 2005...</td>\n",
       "    </tr>\n",
       "    <tr>\n",
       "      <th>2214</th>\n",
       "      <td>0</td>\n",
       "      <td>bush budget seeks deep cutbacks president bush...</td>\n",
       "    </tr>\n",
       "    <tr>\n",
       "      <th>2215</th>\n",
       "      <td>4</td>\n",
       "      <td>junk e-mails on relentless rise spam traffic i...</td>\n",
       "    </tr>\n",
       "    <tr>\n",
       "      <th>2216</th>\n",
       "      <td>1</td>\n",
       "      <td>top stars join us tsunami tv show brad pitt  r...</td>\n",
       "    </tr>\n",
       "    <tr>\n",
       "      <th>2217</th>\n",
       "      <td>4</td>\n",
       "      <td>rings of steel combat net attacks gambling is ...</td>\n",
       "    </tr>\n",
       "    <tr>\n",
       "      <th>2218</th>\n",
       "      <td>3</td>\n",
       "      <td>davies favours gloucester future wales hooker ...</td>\n",
       "    </tr>\n",
       "    <tr>\n",
       "      <th>2219</th>\n",
       "      <td>0</td>\n",
       "      <td>beijingers fume over parking fees choking traf...</td>\n",
       "    </tr>\n",
       "    <tr>\n",
       "      <th>2220</th>\n",
       "      <td>0</td>\n",
       "      <td>cars pull down us retail figures us retail sal...</td>\n",
       "    </tr>\n",
       "    <tr>\n",
       "      <th>2221</th>\n",
       "      <td>2</td>\n",
       "      <td>kilroy unveils immigration policy ex-chatshow ...</td>\n",
       "    </tr>\n",
       "    <tr>\n",
       "      <th>2222</th>\n",
       "      <td>1</td>\n",
       "      <td>rem announce new glasgow concert us band rem h...</td>\n",
       "    </tr>\n",
       "    <tr>\n",
       "      <th>2223</th>\n",
       "      <td>2</td>\n",
       "      <td>how political squabbles snowball it s become c...</td>\n",
       "    </tr>\n",
       "    <tr>\n",
       "      <th>2224</th>\n",
       "      <td>3</td>\n",
       "      <td>souness delight at euro progress boss graeme s...</td>\n",
       "    </tr>\n",
       "  </tbody>\n",
       "</table>\n",
       "<p>2225 rows × 2 columns</p>\n",
       "</div>"
      ],
      "text/plain": [
       "      category                                               text\n",
       "0            4  tv future in the hands of viewers with home th...\n",
       "1            0  worldcom boss  left books alone  former worldc...\n",
       "2            3  tigers wary of farrell  gamble  leicester say ...\n",
       "3            3  yeading face newcastle in fa cup premiership s...\n",
       "4            1  ocean s twelve raids box office ocean s twelve...\n",
       "5            2  howard hits back at mongrel jibe michael howar...\n",
       "6            2  blair prepares to name poll date tony blair is...\n",
       "7            3  henman hopes ended in dubai third seed tim hen...\n",
       "8            3  wilkinson fit to face edinburgh england captai...\n",
       "9            1  last star wars  not for children  the sixth an...\n",
       "10           1  berlin cheers for anti-nazi film a german movi...\n",
       "11           0  virgin blue shares plummet 20% shares in austr...\n",
       "12           0  crude oil prices back above $50 cold weather a...\n",
       "13           2  hague  given up  his pm ambition former conser...\n",
       "14           3  moya emotional after davis cup win carlos moya...\n",
       "15           0  s korean credit card firm rescued south korea ...\n",
       "16           2  howard backs stem cell research michael howard...\n",
       "17           3  connors boost for british tennis former world ...\n",
       "18           0  japanese banking battle at an end japan s sumi...\n",
       "19           4  games maker fights for survival one of britain...\n",
       "20           4  security warning over  fbi virus  the us feder...\n",
       "21           4  halo 2 heralds traffic explosion the growing p...\n",
       "22           3  bates seals takeover ken bates has completed h...\n",
       "23           3  cole faces lengthy injury lay-off aston villa ...\n",
       "24           4  mobile audio enters new dimension as mobile ph...\n",
       "25           3  moya fights back for indian title carlos moya ...\n",
       "26           1  career honour for actor dicaprio actor leonard...\n",
       "27           4  mobile gig aims to rock 3g forget about going ...\n",
       "28           2  terror suspects face house arrest uk citizens ...\n",
       "29           1  halloween writer debra hill dies screenwriter ...\n",
       "...        ...                                                ...\n",
       "2195         3  owen delighted with real display michael owen ...\n",
       "2196         0  gm issues 2005 profits warning general motors ...\n",
       "2197         2  campbell returns to election team ex-downing s...\n",
       "2198         0  asian banks halt dollar s slide the dollar reg...\n",
       "2199         0  wall street cool to ebay s profit shares in on...\n",
       "2200         4  uk pioneers digital film network the world s f...\n",
       "2201         0  ban on forced retirement under 65 employers wi...\n",
       "2202         4  local net tv takes off in austria an austrian ...\n",
       "2203         2  profile: david miliband david miliband s rapid...\n",
       "2204         4  argonaut founder rebuilds empire jez san  the ...\n",
       "2205         1  dance music not dead says fatboy dj norman coo...\n",
       "2206         2  kennedy questions trust of blair lib dem leade...\n",
       "2207         4  california sets fines for spyware the makers o...\n",
       "2208         1  snicket tops us box office chart the film adap...\n",
       "2209         3  time to get tough on friendlies  for an intern...\n",
       "2210         2  teens  know little  of politics teenagers ques...\n",
       "2211         1  lopez misses uk charity premiere jennifer lope...\n",
       "2212         0  christmas shoppers flock to tills shops all ov...\n",
       "2213         4  progress on new internet domains by early 2005...\n",
       "2214         0  bush budget seeks deep cutbacks president bush...\n",
       "2215         4  junk e-mails on relentless rise spam traffic i...\n",
       "2216         1  top stars join us tsunami tv show brad pitt  r...\n",
       "2217         4  rings of steel combat net attacks gambling is ...\n",
       "2218         3  davies favours gloucester future wales hooker ...\n",
       "2219         0  beijingers fume over parking fees choking traf...\n",
       "2220         0  cars pull down us retail figures us retail sal...\n",
       "2221         2  kilroy unveils immigration policy ex-chatshow ...\n",
       "2222         1  rem announce new glasgow concert us band rem h...\n",
       "2223         2  how political squabbles snowball it s become c...\n",
       "2224         3  souness delight at euro progress boss graeme s...\n",
       "\n",
       "[2225 rows x 2 columns]"
      ]
     },
     "execution_count": 4,
     "metadata": {},
     "output_type": "execute_result"
    }
   ],
   "source": [
    "data"
   ]
  },
  {
   "cell_type": "code",
   "execution_count": 6,
   "metadata": {},
   "outputs": [
    {
     "name": "stdout",
     "output_type": "stream",
     "text": [
      "(2225, 2)\n",
      "Index(['category', 'text'], dtype='object')\n"
     ]
    }
   ],
   "source": [
    "print(data.shape)\n",
    "print(data.columns)"
   ]
  },
  {
   "cell_type": "code",
   "execution_count": 7,
   "metadata": {},
   "outputs": [
    {
     "name": "stdout",
     "output_type": "stream",
     "text": [
      "<class 'pandas.core.frame.DataFrame'>\n",
      "RangeIndex: 2225 entries, 0 to 2224\n",
      "Data columns (total 2 columns):\n",
      "category    2225 non-null int64\n",
      "text        2225 non-null object\n",
      "dtypes: int64(1), object(1)\n",
      "memory usage: 34.8+ KB\n"
     ]
    }
   ],
   "source": [
    "data.info()"
   ]
  },
  {
   "cell_type": "markdown",
   "metadata": {},
   "source": [
    "Let us check for duplicate values in data"
   ]
  },
  {
   "cell_type": "code",
   "execution_count": 8,
   "metadata": {},
   "outputs": [
    {
     "data": {
      "text/plain": [
       "category    99\n",
       "text        99\n",
       "dtype: int64"
      ]
     },
     "execution_count": 8,
     "metadata": {},
     "output_type": "execute_result"
    }
   ],
   "source": [
    "data[data.duplicated() == True].count()\n"
   ]
  },
  {
   "cell_type": "markdown",
   "metadata": {},
   "source": [
    "We found out the data contains some duplicate values so lets filter them out"
   ]
  },
  {
   "cell_type": "code",
   "execution_count": 9,
   "metadata": {},
   "outputs": [],
   "source": [
    "data.drop_duplicates(keep=False,inplace=True) "
   ]
  },
  {
   "cell_type": "code",
   "execution_count": 10,
   "metadata": {},
   "outputs": [
    {
     "data": {
      "text/plain": [
       "category    0\n",
       "text        0\n",
       "dtype: int64"
      ]
     },
     "execution_count": 10,
     "metadata": {},
     "output_type": "execute_result"
    }
   ],
   "source": [
    "data[data.duplicated() == True].count()\n"
   ]
  },
  {
   "cell_type": "code",
   "execution_count": 11,
   "metadata": {},
   "outputs": [
    {
     "name": "stdout",
     "output_type": "stream",
     "text": [
      "(2027, 2)\n"
     ]
    }
   ],
   "source": [
    "print(data.shape)"
   ]
  },
  {
   "cell_type": "markdown",
   "metadata": {},
   "source": [
    "#### Now we have cleansed the data of duplicate values, Now lets check for null values"
   ]
  },
  {
   "cell_type": "code",
   "execution_count": 39,
   "metadata": {},
   "outputs": [
    {
     "data": {
      "text/plain": [
       "<matplotlib.axes._subplots.AxesSubplot at 0x24b708ced30>"
      ]
     },
     "execution_count": 39,
     "metadata": {},
     "output_type": "execute_result"
    },
    {
     "data": {
      "image/png": "[encoded data removed]",
      "text/plain": [
       "<Figure size 432x288 with 1 Axes>"
      ]
     },
     "metadata": {},
     "output_type": "display_data"
    }
   ],
   "source": [
    "sns.countplot(data.isnull().count())"
   ]
  },
  {
   "cell_type": "markdown",
   "metadata": {},
   "source": [
    "Data does not contain any null values so we are good to go"
   ]
  },
  {
   "cell_type": "code",
   "execution_count": 41,
   "metadata": {},
   "outputs": [
    {
     "data": {
      "text/plain": [
       "<matplotlib.axes._subplots.AxesSubplot at 0x24b70983c88>"
      ]
     },
     "execution_count": 41,
     "metadata": {},
     "output_type": "execute_result"
    },
    {
     "data": {
      "image/png": "[encoded data removed]",
      "text/plain": [
       "<Figure size 432x288 with 1 Axes>"
      ]
     },
     "metadata": {},
     "output_type": "display_data"
    }
   ],
   "source": [
    "sns.countplot(x='category', data=data) # This graph displays the number for sentences in each class"
   ]
  },
  {
   "cell_type": "markdown",
   "metadata": {},
   "source": [
    "#### This graph shows the number of sentences each class has"
   ]
  },
  {
   "cell_type": "markdown",
   "metadata": {},
   "source": [
    "## Data Pre Processing\n",
    "#### Our data exploration ends up at here. The next step will be preprocess the data in order to make the learning process more smooth.\n",
    "Pre processing steps:\n",
    "\n",
    "- Convert sentence into lower case\n",
    "- Remove Stop Words\n",
    "- Stemming"
   ]
  },
  {
   "cell_type": "code",
   "execution_count": 13,
   "metadata": {},
   "outputs": [],
   "source": [
    "import nltk\n",
    "from nltk.tokenize import word_tokenize\n",
    "from nltk.corpus import stopwords\n",
    "from nltk.stem.snowball import SnowballStemmer\n",
    "from nltk.stem import WordNetLemmatizer\n",
    "\n",
    "def preprocess(raw_text):\n",
    "    letters_only = re.sub(\"[^a-zA-Z]\", \" \",raw_text)\n",
    "    \n",
    "    # change sentence to lower case\n",
    "    letters_only = letters_only.lower()\n",
    "\n",
    "    # tokenize into words\n",
    "    words = letters_only.split()\n",
    "    \n",
    "    # remove stop words                \n",
    "    words = [w for w in words if not w in stopwords.words(\"english\")]\n",
    "    \n",
    "    words  = [WordNetLemmatizer().lemmatize(w) for w in words]\n",
    "    \n",
    "    #Stemming\n",
    "    words = [SnowballStemmer('english').stem(word) for word in words]\n",
    "    \n",
    "    words = [word for word in words if len(word)>3]\n",
    "    \n",
    "    return(\" \".join(words))"
   ]
  },
  {
   "cell_type": "markdown",
   "metadata": {},
   "source": [
    "Stemming makes sure that different variations of a word, say ‘warm’, warmer’, ‘warming’ and ‘warmed,’ are represented by a single token - ‘warm’, because they all represent the same information (represented by the 'stem' of th"
   ]
  },
  {
   "cell_type": "code",
   "execution_count": 14,
   "metadata": {},
   "outputs": [
    {
     "data": {
      "text/plain": [
       "0       futur hand viewer home theatr system plasma hi...\n",
       "1       worldcom left book alon former worldcom berni ...\n",
       "2       tiger wari farrel gambl leicest rush make andi...\n",
       "3       yead face newcastl premiership side newcastl u...\n",
       "5       howard back mongrel jibe michael howard said c...\n",
       "6       blair prepar name poll date toni blair like na...\n",
       "7       henman hope dubai third seed henman slump stra...\n",
       "8       wilkinson face edinburgh england captain jonni...\n",
       "9       last star child sixth final star movi suitabl ...\n",
       "10      berlin cheer anti nazi film german movi anti n...\n",
       "11      virgin blue share plummet share australian bud...\n",
       "12      crude price back cold weather across part unit...\n",
       "14      moya emot davi carlo moya describ spain davi v...\n",
       "15      korean credit card firm rescu south korea larg...\n",
       "16      howard back stem cell research michael howard ...\n",
       "17      connor boost british tenni former world number...\n",
       "18      japanes bank battl japan sumitomo mitsui finan...\n",
       "19      game maker fight surviv britain largest indepe...\n",
       "21      halo herald traffic explos grow popular onlin ...\n",
       "22      bate seal takeov bate complet takeov leed unit...\n",
       "23      cole face lengthi injuri aston villa carlton c...\n",
       "24      mobil audio enter dimens mobil phone move clos...\n",
       "25      moya fight back indian titl carlo moya becam f...\n",
       "26      career honour actor dicaprio actor leonardo di...\n",
       "27      mobil rock forget crowd enjoy latest darl musi...\n",
       "28      terror suspect face hous arrest citizen suspec...\n",
       "29      halloween writer debra hill screenwrit produc ...\n",
       "30      royal coupl watch nation mood princ charl cami...\n",
       "31      firefox browser take microsoft microsoft inter...\n",
       "32      celebr skate former england footbal paul gasco...\n",
       "                              ...                        \n",
       "2189    mobil network seek turbo boost third generat m...\n",
       "2190    newri fight exit court newri citi expect discu...\n",
       "2191    iraqi voter turn econom issu beyond desper sec...\n",
       "2193    consum confid consum confid state economi high...\n",
       "2194    india pakistan peac boost trade calmer relat i...\n",
       "2195    owen delight real display michael owen revel r...\n",
       "2196    issu profit warn general motor warn expect ear...\n",
       "2197    campbel return elect team down street medium c...\n",
       "2198    asian bank halt dollar slide dollar regain los...\n",
       "2199    wall street cool ebay profit share onlin aucti...\n",
       "2200    pioneer digit film network world first digit c...\n",
       "2201    forc retir employ longer forc worker retir unl...\n",
       "2202    local take austria austrian villag test techno...\n",
       "2203    profil david miliband david miliband rapid ris...\n",
       "2204    argonaut founder rebuild empir behind argonaut...\n",
       "2205    danc music dead fatboy norman cook fatboy slim...\n",
       "2208    snicket offic chart film adapt lemoni snicket ...\n",
       "2209    time tough friend intern manag friend provid i...\n",
       "2210    teen know littl polit teenag question survey s...\n",
       "2211    lopez miss chariti premier jennif lopez cancel...\n",
       "2212    christma shopper flock till shop report strong...\n",
       "2214    bush budget seek deep cutback presid bush pres...\n",
       "2216    star join tsunami show brad pitt robert niro h...\n",
       "2218    davi favour gloucest futur wale hooker mefin d...\n",
       "2219    beijing fume park choke traffic beij prompt of...\n",
       "2220    pull retail figur retail sale fell januari big...\n",
       "2221    kilroy unveil immigr polici chatshow host robe...\n",
       "2222    announc glasgow concert band announc plan perf...\n",
       "2223    polit squabbl snowbal becom commonplac argu bl...\n",
       "2224    souness delight euro progress graem souness fe...\n",
       "Name: clean_text, Length: 2027, dtype: object"
      ]
     },
     "execution_count": 14,
     "metadata": {},
     "output_type": "execute_result"
    }
   ],
   "source": [
    "data['clean_text'] = data['text'].apply(lambda x: preprocess(x))\n",
    "data['clean_text']"
   ]
  },
  {
   "cell_type": "code",
   "execution_count": 42,
   "metadata": {},
   "outputs": [
    {
     "data": {
      "text/html": [
       "<div>\n",
       "<style scoped>\n",
       "    .dataframe tbody tr th:only-of-type {\n",
       "        vertical-align: middle;\n",
       "    }\n",
       "\n",
       "    .dataframe tbody tr th {\n",
       "        vertical-align: top;\n",
       "    }\n",
       "\n",
       "    .dataframe thead th {\n",
       "        text-align: right;\n",
       "    }\n",
       "</style>\n",
       "<table border=\"1\" class=\"dataframe\">\n",
       "  <thead>\n",
       "    <tr style=\"text-align: right;\">\n",
       "      <th></th>\n",
       "      <th>category</th>\n",
       "      <th>text</th>\n",
       "      <th>clean_text</th>\n",
       "    </tr>\n",
       "  </thead>\n",
       "  <tbody>\n",
       "    <tr>\n",
       "      <th>0</th>\n",
       "      <td>4</td>\n",
       "      <td>tv future in the hands of viewers with home th...</td>\n",
       "      <td>futur hand viewer home theatr system plasma hi...</td>\n",
       "    </tr>\n",
       "    <tr>\n",
       "      <th>1</th>\n",
       "      <td>0</td>\n",
       "      <td>worldcom boss  left books alone  former worldc...</td>\n",
       "      <td>worldcom left book alon former worldcom berni ...</td>\n",
       "    </tr>\n",
       "    <tr>\n",
       "      <th>2</th>\n",
       "      <td>3</td>\n",
       "      <td>tigers wary of farrell  gamble  leicester say ...</td>\n",
       "      <td>tiger wari farrel gambl leicest rush make andi...</td>\n",
       "    </tr>\n",
       "    <tr>\n",
       "      <th>3</th>\n",
       "      <td>3</td>\n",
       "      <td>yeading face newcastle in fa cup premiership s...</td>\n",
       "      <td>yead face newcastl premiership side newcastl u...</td>\n",
       "    </tr>\n",
       "    <tr>\n",
       "      <th>5</th>\n",
       "      <td>2</td>\n",
       "      <td>howard hits back at mongrel jibe michael howar...</td>\n",
       "      <td>howard back mongrel jibe michael howard said c...</td>\n",
       "    </tr>\n",
       "  </tbody>\n",
       "</table>\n",
       "</div>"
      ],
      "text/plain": [
       "   category                                               text  \\\n",
       "0         4  tv future in the hands of viewers with home th...   \n",
       "1         0  worldcom boss  left books alone  former worldc...   \n",
       "2         3  tigers wary of farrell  gamble  leicester say ...   \n",
       "3         3  yeading face newcastle in fa cup premiership s...   \n",
       "5         2  howard hits back at mongrel jibe michael howar...   \n",
       "\n",
       "                                          clean_text  \n",
       "0  futur hand viewer home theatr system plasma hi...  \n",
       "1  worldcom left book alon former worldcom berni ...  \n",
       "2  tiger wari farrel gambl leicest rush make andi...  \n",
       "3  yead face newcastl premiership side newcastl u...  \n",
       "5  howard back mongrel jibe michael howard said c...  "
      ]
     },
     "execution_count": 42,
     "metadata": {},
     "output_type": "execute_result"
    }
   ],
   "source": [
    "data.head()\n",
    "# An overview of our processed data"
   ]
  },
  {
   "cell_type": "code",
   "execution_count": 44,
   "metadata": {},
   "outputs": [
    {
     "name": "stdout",
     "output_type": "stream",
     "text": [
      "4333\n"
     ]
    }
   ],
   "source": [
    "np.savetxt('scores.csv', [p for p in zip(data['category'],data['clean_text'])], delimiter=',', fmt='%s')\n",
    "print(len(data['text'][0]))\n",
    "# Saving the data to a new csv file"
   ]
  },
  {
   "cell_type": "markdown",
   "metadata": {},
   "source": [
    "# Data Preparation\n",
    "Let's now prepare the data and build the model."
   ]
  },
  {
   "cell_type": "code",
   "execution_count": 19,
   "metadata": {},
   "outputs": [],
   "source": [
    "x=data['clean_text']\n",
    "y=data['category']"
   ]
  },
  {
   "cell_type": "code",
   "execution_count": 54,
   "metadata": {},
   "outputs": [
    {
     "name": "stdout",
     "output_type": "stream",
     "text": [
      "(1418,)\n",
      "(1418,)\n",
      "(609,)\n",
      "(609,)\n"
     ]
    }
   ],
   "source": [
    "# splitting into test, train\n",
    "from sklearn.model_selection import train_test_split\n",
    "x_train, x_test, y_train, y_test = train_test_split(x, y, test_size=0.3, \\\n",
    "                                                    random_state=0)\n",
    "\n",
    "print(x_train.shape)\n",
    "print(y_train.shape)\n",
    "print(x_test.shape)\n",
    "print(y_test.shape)\n",
    "\n",
    "train_acc = []\n",
    "test_acc = []\n",
    "train_loss = []\n",
    "test_loss = []"
   ]
  },
  {
   "cell_type": "markdown",
   "metadata": {},
   "source": [
    "Text to vector using Tf-idf"
   ]
  },
  {
   "cell_type": "code",
   "execution_count": 55,
   "metadata": {},
   "outputs": [],
   "source": [
    "from sklearn.feature_extraction.text import TfidfVectorizer,CountVectorizer\n",
    "\n",
    "Train_Vector = TfidfVectorizer() # Tf-Idf\n",
    "x_train = Train_Vector.fit_transform(x_train)\n",
    "x_test=Train_Vector.transform(x_test)\n",
    "\n"
   ]
  },
  {
   "cell_type": "markdown",
   "metadata": {},
   "source": [
    "# Model Building and Evaluation"
   ]
  },
  {
   "cell_type": "code",
   "execution_count": 56,
   "metadata": {},
   "outputs": [
    {
     "name": "stdout",
     "output_type": "stream",
     "text": [
      "Epoch 0\n",
      "Accuracy Train score: 0.24259520451339917\n",
      "Accuracy Test score: 0.24958949096880131\n",
      "Epoch 1\n",
      "Accuracy Train score: 0.7524682651622003\n",
      "Accuracy Test score: 0.735632183908046\n",
      "Epoch 2\n",
      "Accuracy Train score: 0.9146685472496474\n",
      "Accuracy Test score: 0.8686371100164204\n",
      "Epoch 3\n",
      "Accuracy Train score: 0.9901269393511989\n",
      "Accuracy Test score: 0.9474548440065681\n",
      "Epoch 4\n",
      "Accuracy Train score: 0.9908321579689704\n",
      "Accuracy Test score: 0.9540229885057471\n",
      "Epoch 5\n",
      "Accuracy Train score: 0.9929478138222849\n",
      "Accuracy Test score: 0.9540229885057471\n",
      "Epoch 6\n",
      "Accuracy Train score: 0.9929478138222849\n",
      "Accuracy Test score: 0.9540229885057471\n",
      "Epoch 7\n",
      "Accuracy Train score: 0.9929478138222849\n",
      "Accuracy Test score: 0.9540229885057471\n",
      "Epoch 8\n",
      "Accuracy Train score: 0.9929478138222849\n",
      "Accuracy Test score: 0.9540229885057471\n",
      "Epoch 9\n",
      "Accuracy Train score: 0.9929478138222849\n",
      "Accuracy Test score: 0.9540229885057471\n"
     ]
    }
   ],
   "source": [
    "from sklearn.linear_model import LogisticRegression\n",
    "from sklearn.metrics import confusion_matrix , classification_report , accuracy_score\n",
    "from sklearn.metrics import log_loss\n",
    "\n",
    "epochs = 10\n",
    "train_acc = []\n",
    "test_acc = []\n",
    "train_loss = []\n",
    "test_loss = []\n",
    "\n",
    "for e in range(epochs):\n",
    "    Regressor1 = LogisticRegression(max_iter=e)\n",
    "    Regressor1.fit(x_train,y_train)\n",
    "    y_pred_train1 = Regressor1.predict(x_train)\n",
    "    y_pred_test1 = Regressor1.predict(x_test)\n",
    "    train_score_1=accuracy_score(y_train,y_pred_train1)\n",
    "    test_score_1=accuracy_score(y_test,y_pred_test1)\n",
    "    pred_train = Regressor1.predict_proba(x_train)\n",
    "    pred_test = Regressor1.predict_proba(x_test)\n",
    "    i_train = log_loss(y_train,pred_train)\n",
    "    i_test=log_loss(y_test,pred_test)\n",
    "    print('Epoch',e)\n",
    "    print('Accuracy Train score:',train_score_1)\n",
    "    print('Accuracy Test score:',test_score_1)\n",
    "\n",
    "    test_acc.append(test_score_1)\n",
    "    train_acc.append(train_score_1)\n",
    "    train_loss.append(i_train)\n",
    "    test_loss.append(i_test)\n",
    "\n"
   ]
  },
  {
   "cell_type": "code",
   "execution_count": 57,
   "metadata": {},
   "outputs": [
    {
     "data": {
      "text/plain": [
       "<matplotlib.legend.Legend at 0x24b70ada9b0>"
      ]
     },
     "execution_count": 57,
     "metadata": {},
     "output_type": "execute_result"
    },
    {
     "data": {
      "image/png": "[encoded data removed]",
      "text/plain": [
       "<Figure size 432x288 with 1 Axes>"
      ]
     },
     "metadata": {},
     "output_type": "display_data"
    }
   ],
   "source": [
    "plt.clf()\n",
    "plt.plot(train_acc,label='Train Score')\n",
    "plt.plot(test_acc,label='Test Score')\n",
    "plt.legend(frameon=False)\n"
   ]
  },
  {
   "cell_type": "code",
   "execution_count": 58,
   "metadata": {},
   "outputs": [
    {
     "data": {
      "text/plain": [
       "<matplotlib.legend.Legend at 0x24b70ece630>"
      ]
     },
     "execution_count": 58,
     "metadata": {},
     "output_type": "execute_result"
    },
    {
     "data": {
      "image/png": "[encoded data removed]",
      "text/plain": [
       "<Figure size 432x288 with 1 Axes>"
      ]
     },
     "metadata": {},
     "output_type": "display_data"
    }
   ],
   "source": [
    "plt.plot(train_loss,label='Train Loss')\n",
    "plt.plot(test_loss,label='Test Loss')\n",
    "plt.legend(frameon=False)"
   ]
  },
  {
   "cell_type": "code",
   "execution_count": 59,
   "metadata": {},
   "outputs": [
    {
     "name": "stdout",
     "output_type": "stream",
     "text": [
      "0.49008654576917726\n"
     ]
    }
   ],
   "source": [
    "pred = Regressor1.predict_proba(x_test)\n",
    "from sklearn.metrics import log_loss\n",
    "i=log_loss(y_test,pred)\n",
    "print(i)"
   ]
  },
  {
   "cell_type": "markdown",
   "metadata": {},
   "source": [
    "Here we used logistic regression model because the results we got from it were better than other models.\n",
    "Highest accuracy was achieved using this model so we prepared the graph of this model only"
   ]
  },
  {
   "cell_type": "markdown",
   "metadata": {},
   "source": [
    "## Highest train accuracy- 0.9929478138222849\n",
    "## Highest Test Accuracy - 0.9540229885057471\n",
    "## Loss score - 0.49008654576917726"
   ]
  },
  {
   "cell_type": "code",
   "execution_count": null,
   "metadata": {},
   "outputs": [],
   "source": []
  }
 ],
 "metadata": {
  "kernelspec": {
   "display_name": "Python 3",
   "language": "python",
   "name": "python3"
  },
  "language_info": {
   "codemirror_mode": {
    "name": "ipython",
    "version": 3
   },
   "file_extension": ".py",
   "mimetype": "text/x-python",
   "name": "python",
   "nbconvert_exporter": "python",
   "pygments_lexer": "ipython3",
   "version": "3.6.5"
  }
 },
 "nbformat": 4,
 "nbformat_minor": 2
}
