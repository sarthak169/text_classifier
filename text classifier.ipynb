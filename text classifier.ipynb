{
 "cells": [
  {
   "cell_type": "markdown",
   "metadata": {},
   "source": [
    "### Data Understanding \n"
   ]
  },
  {
   "cell_type": "code",
   "execution_count": 1,
   "metadata": {},
   "outputs": [],
   "source": [
    "import numpy as np\n",
    "import pandas as pd\n",
    "import matplotlib.pyplot as plt\n",
    "import seaborn as sns\n",
    "import re"
   ]
  },
  {
   "cell_type": "code",
   "execution_count": 2,
   "metadata": {},
   "outputs": [
    {
     "data": {
      "text/html": [
       "<div>\n",
       "<style scoped>\n",
       "    .dataframe tbody tr th:only-of-type {\n",
       "        vertical-align: middle;\n",
       "    }\n",
       "\n",
       "    .dataframe tbody tr th {\n",
       "        vertical-align: top;\n",
       "    }\n",
       "\n",
       "    .dataframe thead th {\n",
       "        text-align: right;\n",
       "    }\n",
       "</style>\n",
       "<table border=\"1\" class=\"dataframe\">\n",
       "  <thead>\n",
       "    <tr style=\"text-align: right;\">\n",
       "      <th></th>\n",
       "      <th>category</th>\n",
       "      <th>text</th>\n",
       "    </tr>\n",
       "  </thead>\n",
       "  <tbody>\n",
       "    <tr>\n",
       "      <th>0</th>\n",
       "      <td>tech</td>\n",
       "      <td>tv future in the hands of viewers with home th...</td>\n",
       "    </tr>\n",
       "    <tr>\n",
       "      <th>1</th>\n",
       "      <td>business</td>\n",
       "      <td>worldcom boss  left books alone  former worldc...</td>\n",
       "    </tr>\n",
       "    <tr>\n",
       "      <th>2</th>\n",
       "      <td>sport</td>\n",
       "      <td>tigers wary of farrell  gamble  leicester say ...</td>\n",
       "    </tr>\n",
       "    <tr>\n",
       "      <th>3</th>\n",
       "      <td>sport</td>\n",
       "      <td>yeading face newcastle in fa cup premiership s...</td>\n",
       "    </tr>\n",
       "    <tr>\n",
       "      <th>4</th>\n",
       "      <td>entertainment</td>\n",
       "      <td>ocean s twelve raids box office ocean s twelve...</td>\n",
       "    </tr>\n",
       "  </tbody>\n",
       "</table>\n",
       "</div>"
      ],
      "text/plain": [
       "        category                                               text\n",
       "0           tech  tv future in the hands of viewers with home th...\n",
       "1       business  worldcom boss  left books alone  former worldc...\n",
       "2          sport  tigers wary of farrell  gamble  leicester say ...\n",
       "3          sport  yeading face newcastle in fa cup premiership s...\n",
       "4  entertainment  ocean s twelve raids box office ocean s twelve..."
      ]
     },
     "execution_count": 2,
     "metadata": {},
     "output_type": "execute_result"
    }
   ],
   "source": [
    " data=pd.read_csv(\"bbc-text.csv\")\n",
    "data.head()"
   ]
  },
  {
   "cell_type": "code",
   "execution_count": 3,
   "metadata": {},
   "outputs": [],
   "source": [
    "from sklearn.preprocessing import LabelEncoder\n",
    "\n",
    "le = LabelEncoder()\n",
    "data['category'] = le.fit_transform(data['category'])"
   ]
  },
  {
   "cell_type": "code",
   "execution_count": 4,
   "metadata": {},
   "outputs": [
    {
     "data": {
      "text/html": [
       "<div>\n",
       "<style scoped>\n",
       "    .dataframe tbody tr th:only-of-type {\n",
       "        vertical-align: middle;\n",
       "    }\n",
       "\n",
       "    .dataframe tbody tr th {\n",
       "        vertical-align: top;\n",
       "    }\n",
       "\n",
       "    .dataframe thead th {\n",
       "        text-align: right;\n",
       "    }\n",
       "</style>\n",
       "<table border=\"1\" class=\"dataframe\">\n",
       "  <thead>\n",
       "    <tr style=\"text-align: right;\">\n",
       "      <th></th>\n",
       "      <th>category</th>\n",
       "      <th>text</th>\n",
       "    </tr>\n",
       "  </thead>\n",
       "  <tbody>\n",
       "    <tr>\n",
       "      <th>0</th>\n",
       "      <td>4</td>\n",
       "      <td>tv future in the hands of viewers with home th...</td>\n",
       "    </tr>\n",
       "    <tr>\n",
       "      <th>1</th>\n",
       "      <td>0</td>\n",
       "      <td>worldcom boss  left books alone  former worldc...</td>\n",
       "    </tr>\n",
       "    <tr>\n",
       "      <th>2</th>\n",
       "      <td>3</td>\n",
       "      <td>tigers wary of farrell  gamble  leicester say ...</td>\n",
       "    </tr>\n",
       "    <tr>\n",
       "      <th>3</th>\n",
       "      <td>3</td>\n",
       "      <td>yeading face newcastle in fa cup premiership s...</td>\n",
       "    </tr>\n",
       "    <tr>\n",
       "      <th>4</th>\n",
       "      <td>1</td>\n",
       "      <td>ocean s twelve raids box office ocean s twelve...</td>\n",
       "    </tr>\n",
       "    <tr>\n",
       "      <th>5</th>\n",
       "      <td>2</td>\n",
       "      <td>howard hits back at mongrel jibe michael howar...</td>\n",
       "    </tr>\n",
       "    <tr>\n",
       "      <th>6</th>\n",
       "      <td>2</td>\n",
       "      <td>blair prepares to name poll date tony blair is...</td>\n",
       "    </tr>\n",
       "    <tr>\n",
       "      <th>7</th>\n",
       "      <td>3</td>\n",
       "      <td>henman hopes ended in dubai third seed tim hen...</td>\n",
       "    </tr>\n",
       "    <tr>\n",
       "      <th>8</th>\n",
       "      <td>3</td>\n",
       "      <td>wilkinson fit to face edinburgh england captai...</td>\n",
       "    </tr>\n",
       "    <tr>\n",
       "      <th>9</th>\n",
       "      <td>1</td>\n",
       "      <td>last star wars  not for children  the sixth an...</td>\n",
       "    </tr>\n",
       "    <tr>\n",
       "      <th>10</th>\n",
       "      <td>1</td>\n",
       "      <td>berlin cheers for anti-nazi film a german movi...</td>\n",
       "    </tr>\n",
       "    <tr>\n",
       "      <th>11</th>\n",
       "      <td>0</td>\n",
       "      <td>virgin blue shares plummet 20% shares in austr...</td>\n",
       "    </tr>\n",
       "    <tr>\n",
       "      <th>12</th>\n",
       "      <td>0</td>\n",
       "      <td>crude oil prices back above $50 cold weather a...</td>\n",
       "    </tr>\n",
       "    <tr>\n",
       "      <th>13</th>\n",
       "      <td>2</td>\n",
       "      <td>hague  given up  his pm ambition former conser...</td>\n",
       "    </tr>\n",
       "    <tr>\n",
       "      <th>14</th>\n",
       "      <td>3</td>\n",
       "      <td>moya emotional after davis cup win carlos moya...</td>\n",
       "    </tr>\n",
       "    <tr>\n",
       "      <th>15</th>\n",
       "      <td>0</td>\n",
       "      <td>s korean credit card firm rescued south korea ...</td>\n",
       "    </tr>\n",
       "    <tr>\n",
       "      <th>16</th>\n",
       "      <td>2</td>\n",
       "      <td>howard backs stem cell research michael howard...</td>\n",
       "    </tr>\n",
       "    <tr>\n",
       "      <th>17</th>\n",
       "      <td>3</td>\n",
       "      <td>connors boost for british tennis former world ...</td>\n",
       "    </tr>\n",
       "    <tr>\n",
       "      <th>18</th>\n",
       "      <td>0</td>\n",
       "      <td>japanese banking battle at an end japan s sumi...</td>\n",
       "    </tr>\n",
       "    <tr>\n",
       "      <th>19</th>\n",
       "      <td>4</td>\n",
       "      <td>games maker fights for survival one of britain...</td>\n",
       "    </tr>\n",
       "    <tr>\n",
       "      <th>20</th>\n",
       "      <td>4</td>\n",
       "      <td>security warning over  fbi virus  the us feder...</td>\n",
       "    </tr>\n",
       "    <tr>\n",
       "      <th>21</th>\n",
       "      <td>4</td>\n",
       "      <td>halo 2 heralds traffic explosion the growing p...</td>\n",
       "    </tr>\n",
       "    <tr>\n",
       "      <th>22</th>\n",
       "      <td>3</td>\n",
       "      <td>bates seals takeover ken bates has completed h...</td>\n",
       "    </tr>\n",
       "    <tr>\n",
       "      <th>23</th>\n",
       "      <td>3</td>\n",
       "      <td>cole faces lengthy injury lay-off aston villa ...</td>\n",
       "    </tr>\n",
       "    <tr>\n",
       "      <th>24</th>\n",
       "      <td>4</td>\n",
       "      <td>mobile audio enters new dimension as mobile ph...</td>\n",
       "    </tr>\n",
       "    <tr>\n",
       "      <th>25</th>\n",
       "      <td>3</td>\n",
       "      <td>moya fights back for indian title carlos moya ...</td>\n",
       "    </tr>\n",
       "    <tr>\n",
       "      <th>26</th>\n",
       "      <td>1</td>\n",
       "      <td>career honour for actor dicaprio actor leonard...</td>\n",
       "    </tr>\n",
       "    <tr>\n",
       "      <th>27</th>\n",
       "      <td>4</td>\n",
       "      <td>mobile gig aims to rock 3g forget about going ...</td>\n",
       "    </tr>\n",
       "    <tr>\n",
       "      <th>28</th>\n",
       "      <td>2</td>\n",
       "      <td>terror suspects face house arrest uk citizens ...</td>\n",
       "    </tr>\n",
       "    <tr>\n",
       "      <th>29</th>\n",
       "      <td>1</td>\n",
       "      <td>halloween writer debra hill dies screenwriter ...</td>\n",
       "    </tr>\n",
       "    <tr>\n",
       "      <th>...</th>\n",
       "      <td>...</td>\n",
       "      <td>...</td>\n",
       "    </tr>\n",
       "    <tr>\n",
       "      <th>2195</th>\n",
       "      <td>3</td>\n",
       "      <td>owen delighted with real display michael owen ...</td>\n",
       "    </tr>\n",
       "    <tr>\n",
       "      <th>2196</th>\n",
       "      <td>0</td>\n",
       "      <td>gm issues 2005 profits warning general motors ...</td>\n",
       "    </tr>\n",
       "    <tr>\n",
       "      <th>2197</th>\n",
       "      <td>2</td>\n",
       "      <td>campbell returns to election team ex-downing s...</td>\n",
       "    </tr>\n",
       "    <tr>\n",
       "      <th>2198</th>\n",
       "      <td>0</td>\n",
       "      <td>asian banks halt dollar s slide the dollar reg...</td>\n",
       "    </tr>\n",
       "    <tr>\n",
       "      <th>2199</th>\n",
       "      <td>0</td>\n",
       "      <td>wall street cool to ebay s profit shares in on...</td>\n",
       "    </tr>\n",
       "    <tr>\n",
       "      <th>2200</th>\n",
       "      <td>4</td>\n",
       "      <td>uk pioneers digital film network the world s f...</td>\n",
       "    </tr>\n",
       "    <tr>\n",
       "      <th>2201</th>\n",
       "      <td>0</td>\n",
       "      <td>ban on forced retirement under 65 employers wi...</td>\n",
       "    </tr>\n",
       "    <tr>\n",
       "      <th>2202</th>\n",
       "      <td>4</td>\n",
       "      <td>local net tv takes off in austria an austrian ...</td>\n",
       "    </tr>\n",
       "    <tr>\n",
       "      <th>2203</th>\n",
       "      <td>2</td>\n",
       "      <td>profile: david miliband david miliband s rapid...</td>\n",
       "    </tr>\n",
       "    <tr>\n",
       "      <th>2204</th>\n",
       "      <td>4</td>\n",
       "      <td>argonaut founder rebuilds empire jez san  the ...</td>\n",
       "    </tr>\n",
       "    <tr>\n",
       "      <th>2205</th>\n",
       "      <td>1</td>\n",
       "      <td>dance music not dead says fatboy dj norman coo...</td>\n",
       "    </tr>\n",
       "    <tr>\n",
       "      <th>2206</th>\n",
       "      <td>2</td>\n",
       "      <td>kennedy questions trust of blair lib dem leade...</td>\n",
       "    </tr>\n",
       "    <tr>\n",
       "      <th>2207</th>\n",
       "      <td>4</td>\n",
       "      <td>california sets fines for spyware the makers o...</td>\n",
       "    </tr>\n",
       "    <tr>\n",
       "      <th>2208</th>\n",
       "      <td>1</td>\n",
       "      <td>snicket tops us box office chart the film adap...</td>\n",
       "    </tr>\n",
       "    <tr>\n",
       "      <th>2209</th>\n",
       "      <td>3</td>\n",
       "      <td>time to get tough on friendlies  for an intern...</td>\n",
       "    </tr>\n",
       "    <tr>\n",
       "      <th>2210</th>\n",
       "      <td>2</td>\n",
       "      <td>teens  know little  of politics teenagers ques...</td>\n",
       "    </tr>\n",
       "    <tr>\n",
       "      <th>2211</th>\n",
       "      <td>1</td>\n",
       "      <td>lopez misses uk charity premiere jennifer lope...</td>\n",
       "    </tr>\n",
       "    <tr>\n",
       "      <th>2212</th>\n",
       "      <td>0</td>\n",
       "      <td>christmas shoppers flock to tills shops all ov...</td>\n",
       "    </tr>\n",
       "    <tr>\n",
       "      <th>2213</th>\n",
       "      <td>4</td>\n",
       "      <td>progress on new internet domains by early 2005...</td>\n",
       "    </tr>\n",
       "    <tr>\n",
       "      <th>2214</th>\n",
       "      <td>0</td>\n",
       "      <td>bush budget seeks deep cutbacks president bush...</td>\n",
       "    </tr>\n",
       "    <tr>\n",
       "      <th>2215</th>\n",
       "      <td>4</td>\n",
       "      <td>junk e-mails on relentless rise spam traffic i...</td>\n",
       "    </tr>\n",
       "    <tr>\n",
       "      <th>2216</th>\n",
       "      <td>1</td>\n",
       "      <td>top stars join us tsunami tv show brad pitt  r...</td>\n",
       "    </tr>\n",
       "    <tr>\n",
       "      <th>2217</th>\n",
       "      <td>4</td>\n",
       "      <td>rings of steel combat net attacks gambling is ...</td>\n",
       "    </tr>\n",
       "    <tr>\n",
       "      <th>2218</th>\n",
       "      <td>3</td>\n",
       "      <td>davies favours gloucester future wales hooker ...</td>\n",
       "    </tr>\n",
       "    <tr>\n",
       "      <th>2219</th>\n",
       "      <td>0</td>\n",
       "      <td>beijingers fume over parking fees choking traf...</td>\n",
       "    </tr>\n",
       "    <tr>\n",
       "      <th>2220</th>\n",
       "      <td>0</td>\n",
       "      <td>cars pull down us retail figures us retail sal...</td>\n",
       "    </tr>\n",
       "    <tr>\n",
       "      <th>2221</th>\n",
       "      <td>2</td>\n",
       "      <td>kilroy unveils immigration policy ex-chatshow ...</td>\n",
       "    </tr>\n",
       "    <tr>\n",
       "      <th>2222</th>\n",
       "      <td>1</td>\n",
       "      <td>rem announce new glasgow concert us band rem h...</td>\n",
       "    </tr>\n",
       "    <tr>\n",
       "      <th>2223</th>\n",
       "      <td>2</td>\n",
       "      <td>how political squabbles snowball it s become c...</td>\n",
       "    </tr>\n",
       "    <tr>\n",
       "      <th>2224</th>\n",
       "      <td>3</td>\n",
       "      <td>souness delight at euro progress boss graeme s...</td>\n",
       "    </tr>\n",
       "  </tbody>\n",
       "</table>\n",
       "<p>2225 rows × 2 columns</p>\n",
       "</div>"
      ],
      "text/plain": [
       "      category                                               text\n",
       "0            4  tv future in the hands of viewers with home th...\n",
       "1            0  worldcom boss  left books alone  former worldc...\n",
       "2            3  tigers wary of farrell  gamble  leicester say ...\n",
       "3            3  yeading face newcastle in fa cup premiership s...\n",
       "4            1  ocean s twelve raids box office ocean s twelve...\n",
       "5            2  howard hits back at mongrel jibe michael howar...\n",
       "6            2  blair prepares to name poll date tony blair is...\n",
       "7            3  henman hopes ended in dubai third seed tim hen...\n",
       "8            3  wilkinson fit to face edinburgh england captai...\n",
       "9            1  last star wars  not for children  the sixth an...\n",
       "10           1  berlin cheers for anti-nazi film a german movi...\n",
       "11           0  virgin blue shares plummet 20% shares in austr...\n",
       "12           0  crude oil prices back above $50 cold weather a...\n",
       "13           2  hague  given up  his pm ambition former conser...\n",
       "14           3  moya emotional after davis cup win carlos moya...\n",
       "15           0  s korean credit card firm rescued south korea ...\n",
       "16           2  howard backs stem cell research michael howard...\n",
       "17           3  connors boost for british tennis former world ...\n",
       "18           0  japanese banking battle at an end japan s sumi...\n",
       "19           4  games maker fights for survival one of britain...\n",
       "20           4  security warning over  fbi virus  the us feder...\n",
       "21           4  halo 2 heralds traffic explosion the growing p...\n",
       "22           3  bates seals takeover ken bates has completed h...\n",
       "23           3  cole faces lengthy injury lay-off aston villa ...\n",
       "24           4  mobile audio enters new dimension as mobile ph...\n",
       "25           3  moya fights back for indian title carlos moya ...\n",
       "26           1  career honour for actor dicaprio actor leonard...\n",
       "27           4  mobile gig aims to rock 3g forget about going ...\n",
       "28           2  terror suspects face house arrest uk citizens ...\n",
       "29           1  halloween writer debra hill dies screenwriter ...\n",
       "...        ...                                                ...\n",
       "2195         3  owen delighted with real display michael owen ...\n",
       "2196         0  gm issues 2005 profits warning general motors ...\n",
       "2197         2  campbell returns to election team ex-downing s...\n",
       "2198         0  asian banks halt dollar s slide the dollar reg...\n",
       "2199         0  wall street cool to ebay s profit shares in on...\n",
       "2200         4  uk pioneers digital film network the world s f...\n",
       "2201         0  ban on forced retirement under 65 employers wi...\n",
       "2202         4  local net tv takes off in austria an austrian ...\n",
       "2203         2  profile: david miliband david miliband s rapid...\n",
       "2204         4  argonaut founder rebuilds empire jez san  the ...\n",
       "2205         1  dance music not dead says fatboy dj norman coo...\n",
       "2206         2  kennedy questions trust of blair lib dem leade...\n",
       "2207         4  california sets fines for spyware the makers o...\n",
       "2208         1  snicket tops us box office chart the film adap...\n",
       "2209         3  time to get tough on friendlies  for an intern...\n",
       "2210         2  teens  know little  of politics teenagers ques...\n",
       "2211         1  lopez misses uk charity premiere jennifer lope...\n",
       "2212         0  christmas shoppers flock to tills shops all ov...\n",
       "2213         4  progress on new internet domains by early 2005...\n",
       "2214         0  bush budget seeks deep cutbacks president bush...\n",
       "2215         4  junk e-mails on relentless rise spam traffic i...\n",
       "2216         1  top stars join us tsunami tv show brad pitt  r...\n",
       "2217         4  rings of steel combat net attacks gambling is ...\n",
       "2218         3  davies favours gloucester future wales hooker ...\n",
       "2219         0  beijingers fume over parking fees choking traf...\n",
       "2220         0  cars pull down us retail figures us retail sal...\n",
       "2221         2  kilroy unveils immigration policy ex-chatshow ...\n",
       "2222         1  rem announce new glasgow concert us band rem h...\n",
       "2223         2  how political squabbles snowball it s become c...\n",
       "2224         3  souness delight at euro progress boss graeme s...\n",
       "\n",
       "[2225 rows x 2 columns]"
      ]
     },
     "execution_count": 4,
     "metadata": {},
     "output_type": "execute_result"
    }
   ],
   "source": [
    "data"
   ]
  },
  {
   "cell_type": "code",
   "execution_count": 5,
   "metadata": {},
   "outputs": [
    {
     "data": {
      "text/plain": [
       "category    99\n",
       "text        99\n",
       "dtype: int64"
      ]
     },
     "execution_count": 5,
     "metadata": {},
     "output_type": "execute_result"
    }
   ],
   "source": [
    "data[data.duplicated() == True].count()"
   ]
  },
  {
   "cell_type": "code",
   "execution_count": 6,
   "metadata": {},
   "outputs": [
    {
     "name": "stdout",
     "output_type": "stream",
     "text": [
      "(2225, 2)\n",
      "Index(['category', 'text'], dtype='object')\n"
     ]
    }
   ],
   "source": [
    "print(data.shape)\n",
    "print(data.columns)"
   ]
  },
  {
   "cell_type": "code",
   "execution_count": 7,
   "metadata": {},
   "outputs": [
    {
     "name": "stdout",
     "output_type": "stream",
     "text": [
      "<class 'pandas.core.frame.DataFrame'>\n",
      "RangeIndex: 2225 entries, 0 to 2224\n",
      "Data columns (total 2 columns):\n",
      "category    2225 non-null int64\n",
      "text        2225 non-null object\n",
      "dtypes: int64(1), object(1)\n",
      "memory usage: 34.8+ KB\n"
     ]
    }
   ],
   "source": [
    "data.info()"
   ]
  },
  {
   "cell_type": "code",
   "execution_count": 8,
   "metadata": {},
   "outputs": [
    {
     "data": {
      "text/plain": [
       "category    99\n",
       "text        99\n",
       "dtype: int64"
      ]
     },
     "execution_count": 8,
     "metadata": {},
     "output_type": "execute_result"
    }
   ],
   "source": [
    "data[data.duplicated() == True].count()\n"
   ]
  },
  {
   "cell_type": "code",
   "execution_count": 9,
   "metadata": {},
   "outputs": [],
   "source": [
    "data.drop_duplicates(keep=False,inplace=True) "
   ]
  },
  {
   "cell_type": "code",
   "execution_count": 10,
   "metadata": {},
   "outputs": [
    {
     "data": {
      "text/plain": [
       "category    0\n",
       "text        0\n",
       "dtype: int64"
      ]
     },
     "execution_count": 10,
     "metadata": {},
     "output_type": "execute_result"
    }
   ],
   "source": [
    "data[data.duplicated() == True].count()\n"
   ]
  },
  {
   "cell_type": "code",
   "execution_count": 11,
   "metadata": {},
   "outputs": [
    {
     "name": "stdout",
     "output_type": "stream",
     "text": [
      "(2027, 2)\n"
     ]
    }
   ],
   "source": [
    "print(data.shape)"
   ]
  },
  {
   "cell_type": "markdown",
   "metadata": {},
   "source": [
    "#### Now we have cleansed the data of duplicate values"
   ]
  },
  {
   "cell_type": "code",
   "execution_count": 12,
   "metadata": {},
   "outputs": [
    {
     "data": {
      "text/plain": [
       "<matplotlib.axes._subplots.AxesSubplot at 0x1511af2f160>"
      ]
     },
     "execution_count": 12,
     "metadata": {},
     "output_type": "execute_result"
    },
    {
     "data": {
      "image/png": "[encoded data removed]",
      "text/plain": [
       "<Figure size 432x288 with 1 Axes>"
      ]
     },
     "metadata": {},
     "output_type": "display_data"
    }
   ],
   "source": [
    "sns.countplot(x='category', data=data)"
   ]
  },
  {
   "cell_type": "markdown",
   "metadata": {},
   "source": [
    "#### This graph shows the number of sentences each class has"
   ]
  },
  {
   "cell_type": "markdown",
   "metadata": {},
   "source": [
    "### Pre Processing"
   ]
  },
  {
   "cell_type": "code",
   "execution_count": 13,
   "metadata": {},
   "outputs": [],
   "source": [
    "import nltk\n",
    "from nltk.tokenize import word_tokenize\n",
    "from nltk.corpus import stopwords\n",
    "from nltk.stem.snowball import SnowballStemmer\n",
    "from nltk.stem import WordNetLemmatizer\n",
    "\n",
    "def preprocess(raw_text):\n",
    "    letters_only = re.sub(\"[^a-zA-Z]\", \" \",raw_text)\n",
    "    \n",
    "    # change sentence to lower case\n",
    "    letters_only = letters_only.lower()\n",
    "\n",
    "    # tokenize into words\n",
    "    words = letters_only.split()\n",
    "    \n",
    "    # remove stop words                \n",
    "    words = [w for w in words if not w in stopwords.words(\"english\")]\n",
    "    \n",
    "    words  = [WordNetLemmatizer().lemmatize(w) for w in words]\n",
    "    \n",
    "    #Stemming\n",
    "    words = [SnowballStemmer('english').stem(word) for word in words]\n",
    "    \n",
    "    words = [word for word in words if len(word)>3]\n",
    "    \n",
    "    return(\" \".join(words))"
   ]
  },
  {
   "cell_type": "code",
   "execution_count": 14,
   "metadata": {},
   "outputs": [
    {
     "data": {
      "text/plain": [
       "0       futur hand viewer home theatr system plasma hi...\n",
       "1       worldcom left book alon former worldcom berni ...\n",
       "2       tiger wari farrel gambl leicest rush make andi...\n",
       "3       yead face newcastl premiership side newcastl u...\n",
       "5       howard back mongrel jibe michael howard said c...\n",
       "6       blair prepar name poll date toni blair like na...\n",
       "7       henman hope dubai third seed henman slump stra...\n",
       "8       wilkinson face edinburgh england captain jonni...\n",
       "9       last star child sixth final star movi suitabl ...\n",
       "10      berlin cheer anti nazi film german movi anti n...\n",
       "11      virgin blue share plummet share australian bud...\n",
       "12      crude price back cold weather across part unit...\n",
       "14      moya emot davi carlo moya describ spain davi v...\n",
       "15      korean credit card firm rescu south korea larg...\n",
       "16      howard back stem cell research michael howard ...\n",
       "17      connor boost british tenni former world number...\n",
       "18      japanes bank battl japan sumitomo mitsui finan...\n",
       "19      game maker fight surviv britain largest indepe...\n",
       "21      halo herald traffic explos grow popular onlin ...\n",
       "22      bate seal takeov bate complet takeov leed unit...\n",
       "23      cole face lengthi injuri aston villa carlton c...\n",
       "24      mobil audio enter dimens mobil phone move clos...\n",
       "25      moya fight back indian titl carlo moya becam f...\n",
       "26      career honour actor dicaprio actor leonardo di...\n",
       "27      mobil rock forget crowd enjoy latest darl musi...\n",
       "28      terror suspect face hous arrest citizen suspec...\n",
       "29      halloween writer debra hill screenwrit produc ...\n",
       "30      royal coupl watch nation mood princ charl cami...\n",
       "31      firefox browser take microsoft microsoft inter...\n",
       "32      celebr skate former england footbal paul gasco...\n",
       "                              ...                        \n",
       "2189    mobil network seek turbo boost third generat m...\n",
       "2190    newri fight exit court newri citi expect discu...\n",
       "2191    iraqi voter turn econom issu beyond desper sec...\n",
       "2193    consum confid consum confid state economi high...\n",
       "2194    india pakistan peac boost trade calmer relat i...\n",
       "2195    owen delight real display michael owen revel r...\n",
       "2196    issu profit warn general motor warn expect ear...\n",
       "2197    campbel return elect team down street medium c...\n",
       "2198    asian bank halt dollar slide dollar regain los...\n",
       "2199    wall street cool ebay profit share onlin aucti...\n",
       "2200    pioneer digit film network world first digit c...\n",
       "2201    forc retir employ longer forc worker retir unl...\n",
       "2202    local take austria austrian villag test techno...\n",
       "2203    profil david miliband david miliband rapid ris...\n",
       "2204    argonaut founder rebuild empir behind argonaut...\n",
       "2205    danc music dead fatboy norman cook fatboy slim...\n",
       "2208    snicket offic chart film adapt lemoni snicket ...\n",
       "2209    time tough friend intern manag friend provid i...\n",
       "2210    teen know littl polit teenag question survey s...\n",
       "2211    lopez miss chariti premier jennif lopez cancel...\n",
       "2212    christma shopper flock till shop report strong...\n",
       "2214    bush budget seek deep cutback presid bush pres...\n",
       "2216    star join tsunami show brad pitt robert niro h...\n",
       "2218    davi favour gloucest futur wale hooker mefin d...\n",
       "2219    beijing fume park choke traffic beij prompt of...\n",
       "2220    pull retail figur retail sale fell januari big...\n",
       "2221    kilroy unveil immigr polici chatshow host robe...\n",
       "2222    announc glasgow concert band announc plan perf...\n",
       "2223    polit squabbl snowbal becom commonplac argu bl...\n",
       "2224    souness delight euro progress graem souness fe...\n",
       "Name: clean_text, Length: 2027, dtype: object"
      ]
     },
     "execution_count": 14,
     "metadata": {},
     "output_type": "execute_result"
    }
   ],
   "source": [
    "data['clean_text'] = data['text'].apply(lambda x: preprocess(x))\n",
    "data['clean_text']"
   ]
  },
  {
   "cell_type": "code",
   "execution_count": 15,
   "metadata": {},
   "outputs": [
    {
     "data": {
      "text/html": [
       "<div>\n",
       "<style scoped>\n",
       "    .dataframe tbody tr th:only-of-type {\n",
       "        vertical-align: middle;\n",
       "    }\n",
       "\n",
       "    .dataframe tbody tr th {\n",
       "        vertical-align: top;\n",
       "    }\n",
       "\n",
       "    .dataframe thead th {\n",
       "        text-align: right;\n",
       "    }\n",
       "</style>\n",
       "<table border=\"1\" class=\"dataframe\">\n",
       "  <thead>\n",
       "    <tr style=\"text-align: right;\">\n",
       "      <th></th>\n",
       "      <th>category</th>\n",
       "      <th>text</th>\n",
       "      <th>clean_text</th>\n",
       "    </tr>\n",
       "  </thead>\n",
       "  <tbody>\n",
       "    <tr>\n",
       "      <th>0</th>\n",
       "      <td>4</td>\n",
       "      <td>tv future in the hands of viewers with home th...</td>\n",
       "      <td>futur hand viewer home theatr system plasma hi...</td>\n",
       "    </tr>\n",
       "    <tr>\n",
       "      <th>1</th>\n",
       "      <td>0</td>\n",
       "      <td>worldcom boss  left books alone  former worldc...</td>\n",
       "      <td>worldcom left book alon former worldcom berni ...</td>\n",
       "    </tr>\n",
       "    <tr>\n",
       "      <th>2</th>\n",
       "      <td>3</td>\n",
       "      <td>tigers wary of farrell  gamble  leicester say ...</td>\n",
       "      <td>tiger wari farrel gambl leicest rush make andi...</td>\n",
       "    </tr>\n",
       "    <tr>\n",
       "      <th>3</th>\n",
       "      <td>3</td>\n",
       "      <td>yeading face newcastle in fa cup premiership s...</td>\n",
       "      <td>yead face newcastl premiership side newcastl u...</td>\n",
       "    </tr>\n",
       "    <tr>\n",
       "      <th>5</th>\n",
       "      <td>2</td>\n",
       "      <td>howard hits back at mongrel jibe michael howar...</td>\n",
       "      <td>howard back mongrel jibe michael howard said c...</td>\n",
       "    </tr>\n",
       "    <tr>\n",
       "      <th>6</th>\n",
       "      <td>2</td>\n",
       "      <td>blair prepares to name poll date tony blair is...</td>\n",
       "      <td>blair prepar name poll date toni blair like na...</td>\n",
       "    </tr>\n",
       "    <tr>\n",
       "      <th>7</th>\n",
       "      <td>3</td>\n",
       "      <td>henman hopes ended in dubai third seed tim hen...</td>\n",
       "      <td>henman hope dubai third seed henman slump stra...</td>\n",
       "    </tr>\n",
       "    <tr>\n",
       "      <th>8</th>\n",
       "      <td>3</td>\n",
       "      <td>wilkinson fit to face edinburgh england captai...</td>\n",
       "      <td>wilkinson face edinburgh england captain jonni...</td>\n",
       "    </tr>\n",
       "    <tr>\n",
       "      <th>9</th>\n",
       "      <td>1</td>\n",
       "      <td>last star wars  not for children  the sixth an...</td>\n",
       "      <td>last star child sixth final star movi suitabl ...</td>\n",
       "    </tr>\n",
       "    <tr>\n",
       "      <th>10</th>\n",
       "      <td>1</td>\n",
       "      <td>berlin cheers for anti-nazi film a german movi...</td>\n",
       "      <td>berlin cheer anti nazi film german movi anti n...</td>\n",
       "    </tr>\n",
       "    <tr>\n",
       "      <th>11</th>\n",
       "      <td>0</td>\n",
       "      <td>virgin blue shares plummet 20% shares in austr...</td>\n",
       "      <td>virgin blue share plummet share australian bud...</td>\n",
       "    </tr>\n",
       "    <tr>\n",
       "      <th>12</th>\n",
       "      <td>0</td>\n",
       "      <td>crude oil prices back above $50 cold weather a...</td>\n",
       "      <td>crude price back cold weather across part unit...</td>\n",
       "    </tr>\n",
       "    <tr>\n",
       "      <th>14</th>\n",
       "      <td>3</td>\n",
       "      <td>moya emotional after davis cup win carlos moya...</td>\n",
       "      <td>moya emot davi carlo moya describ spain davi v...</td>\n",
       "    </tr>\n",
       "    <tr>\n",
       "      <th>15</th>\n",
       "      <td>0</td>\n",
       "      <td>s korean credit card firm rescued south korea ...</td>\n",
       "      <td>korean credit card firm rescu south korea larg...</td>\n",
       "    </tr>\n",
       "    <tr>\n",
       "      <th>16</th>\n",
       "      <td>2</td>\n",
       "      <td>howard backs stem cell research michael howard...</td>\n",
       "      <td>howard back stem cell research michael howard ...</td>\n",
       "    </tr>\n",
       "    <tr>\n",
       "      <th>17</th>\n",
       "      <td>3</td>\n",
       "      <td>connors boost for british tennis former world ...</td>\n",
       "      <td>connor boost british tenni former world number...</td>\n",
       "    </tr>\n",
       "    <tr>\n",
       "      <th>18</th>\n",
       "      <td>0</td>\n",
       "      <td>japanese banking battle at an end japan s sumi...</td>\n",
       "      <td>japanes bank battl japan sumitomo mitsui finan...</td>\n",
       "    </tr>\n",
       "    <tr>\n",
       "      <th>19</th>\n",
       "      <td>4</td>\n",
       "      <td>games maker fights for survival one of britain...</td>\n",
       "      <td>game maker fight surviv britain largest indepe...</td>\n",
       "    </tr>\n",
       "    <tr>\n",
       "      <th>21</th>\n",
       "      <td>4</td>\n",
       "      <td>halo 2 heralds traffic explosion the growing p...</td>\n",
       "      <td>halo herald traffic explos grow popular onlin ...</td>\n",
       "    </tr>\n",
       "    <tr>\n",
       "      <th>22</th>\n",
       "      <td>3</td>\n",
       "      <td>bates seals takeover ken bates has completed h...</td>\n",
       "      <td>bate seal takeov bate complet takeov leed unit...</td>\n",
       "    </tr>\n",
       "    <tr>\n",
       "      <th>23</th>\n",
       "      <td>3</td>\n",
       "      <td>cole faces lengthy injury lay-off aston villa ...</td>\n",
       "      <td>cole face lengthi injuri aston villa carlton c...</td>\n",
       "    </tr>\n",
       "    <tr>\n",
       "      <th>24</th>\n",
       "      <td>4</td>\n",
       "      <td>mobile audio enters new dimension as mobile ph...</td>\n",
       "      <td>mobil audio enter dimens mobil phone move clos...</td>\n",
       "    </tr>\n",
       "    <tr>\n",
       "      <th>25</th>\n",
       "      <td>3</td>\n",
       "      <td>moya fights back for indian title carlos moya ...</td>\n",
       "      <td>moya fight back indian titl carlo moya becam f...</td>\n",
       "    </tr>\n",
       "    <tr>\n",
       "      <th>26</th>\n",
       "      <td>1</td>\n",
       "      <td>career honour for actor dicaprio actor leonard...</td>\n",
       "      <td>career honour actor dicaprio actor leonardo di...</td>\n",
       "    </tr>\n",
       "    <tr>\n",
       "      <th>27</th>\n",
       "      <td>4</td>\n",
       "      <td>mobile gig aims to rock 3g forget about going ...</td>\n",
       "      <td>mobil rock forget crowd enjoy latest darl musi...</td>\n",
       "    </tr>\n",
       "    <tr>\n",
       "      <th>28</th>\n",
       "      <td>2</td>\n",
       "      <td>terror suspects face house arrest uk citizens ...</td>\n",
       "      <td>terror suspect face hous arrest citizen suspec...</td>\n",
       "    </tr>\n",
       "    <tr>\n",
       "      <th>29</th>\n",
       "      <td>1</td>\n",
       "      <td>halloween writer debra hill dies screenwriter ...</td>\n",
       "      <td>halloween writer debra hill screenwrit produc ...</td>\n",
       "    </tr>\n",
       "    <tr>\n",
       "      <th>30</th>\n",
       "      <td>2</td>\n",
       "      <td>royal couple watch nation s mood prince charle...</td>\n",
       "      <td>royal coupl watch nation mood princ charl cami...</td>\n",
       "    </tr>\n",
       "    <tr>\n",
       "      <th>31</th>\n",
       "      <td>4</td>\n",
       "      <td>firefox browser takes on microsoft microsoft s...</td>\n",
       "      <td>firefox browser take microsoft microsoft inter...</td>\n",
       "    </tr>\n",
       "    <tr>\n",
       "      <th>32</th>\n",
       "      <td>1</td>\n",
       "      <td>celebrities get their skates on former england...</td>\n",
       "      <td>celebr skate former england footbal paul gasco...</td>\n",
       "    </tr>\n",
       "    <tr>\n",
       "      <th>...</th>\n",
       "      <td>...</td>\n",
       "      <td>...</td>\n",
       "      <td>...</td>\n",
       "    </tr>\n",
       "    <tr>\n",
       "      <th>2189</th>\n",
       "      <td>4</td>\n",
       "      <td>mobile networks seek turbo boost third-generat...</td>\n",
       "      <td>mobil network seek turbo boost third generat m...</td>\n",
       "    </tr>\n",
       "    <tr>\n",
       "      <th>2190</th>\n",
       "      <td>3</td>\n",
       "      <td>newry to fight cup exit in courts newry city a...</td>\n",
       "      <td>newri fight exit court newri citi expect discu...</td>\n",
       "    </tr>\n",
       "    <tr>\n",
       "      <th>2191</th>\n",
       "      <td>0</td>\n",
       "      <td>iraqi voters turn to economic issues beyond th...</td>\n",
       "      <td>iraqi voter turn econom issu beyond desper sec...</td>\n",
       "    </tr>\n",
       "    <tr>\n",
       "      <th>2193</th>\n",
       "      <td>0</td>\n",
       "      <td>us consumer confidence up consumers  confidenc...</td>\n",
       "      <td>consum confid consum confid state economi high...</td>\n",
       "    </tr>\n",
       "    <tr>\n",
       "      <th>2194</th>\n",
       "      <td>0</td>\n",
       "      <td>india-pakistan peace boosts trade calmer relat...</td>\n",
       "      <td>india pakistan peac boost trade calmer relat i...</td>\n",
       "    </tr>\n",
       "    <tr>\n",
       "      <th>2195</th>\n",
       "      <td>3</td>\n",
       "      <td>owen delighted with real display michael owen ...</td>\n",
       "      <td>owen delight real display michael owen revel r...</td>\n",
       "    </tr>\n",
       "    <tr>\n",
       "      <th>2196</th>\n",
       "      <td>0</td>\n",
       "      <td>gm issues 2005 profits warning general motors ...</td>\n",
       "      <td>issu profit warn general motor warn expect ear...</td>\n",
       "    </tr>\n",
       "    <tr>\n",
       "      <th>2197</th>\n",
       "      <td>2</td>\n",
       "      <td>campbell returns to election team ex-downing s...</td>\n",
       "      <td>campbel return elect team down street medium c...</td>\n",
       "    </tr>\n",
       "    <tr>\n",
       "      <th>2198</th>\n",
       "      <td>0</td>\n",
       "      <td>asian banks halt dollar s slide the dollar reg...</td>\n",
       "      <td>asian bank halt dollar slide dollar regain los...</td>\n",
       "    </tr>\n",
       "    <tr>\n",
       "      <th>2199</th>\n",
       "      <td>0</td>\n",
       "      <td>wall street cool to ebay s profit shares in on...</td>\n",
       "      <td>wall street cool ebay profit share onlin aucti...</td>\n",
       "    </tr>\n",
       "    <tr>\n",
       "      <th>2200</th>\n",
       "      <td>4</td>\n",
       "      <td>uk pioneers digital film network the world s f...</td>\n",
       "      <td>pioneer digit film network world first digit c...</td>\n",
       "    </tr>\n",
       "    <tr>\n",
       "      <th>2201</th>\n",
       "      <td>0</td>\n",
       "      <td>ban on forced retirement under 65 employers wi...</td>\n",
       "      <td>forc retir employ longer forc worker retir unl...</td>\n",
       "    </tr>\n",
       "    <tr>\n",
       "      <th>2202</th>\n",
       "      <td>4</td>\n",
       "      <td>local net tv takes off in austria an austrian ...</td>\n",
       "      <td>local take austria austrian villag test techno...</td>\n",
       "    </tr>\n",
       "    <tr>\n",
       "      <th>2203</th>\n",
       "      <td>2</td>\n",
       "      <td>profile: david miliband david miliband s rapid...</td>\n",
       "      <td>profil david miliband david miliband rapid ris...</td>\n",
       "    </tr>\n",
       "    <tr>\n",
       "      <th>2204</th>\n",
       "      <td>4</td>\n",
       "      <td>argonaut founder rebuilds empire jez san  the ...</td>\n",
       "      <td>argonaut founder rebuild empir behind argonaut...</td>\n",
       "    </tr>\n",
       "    <tr>\n",
       "      <th>2205</th>\n",
       "      <td>1</td>\n",
       "      <td>dance music not dead says fatboy dj norman coo...</td>\n",
       "      <td>danc music dead fatboy norman cook fatboy slim...</td>\n",
       "    </tr>\n",
       "    <tr>\n",
       "      <th>2208</th>\n",
       "      <td>1</td>\n",
       "      <td>snicket tops us box office chart the film adap...</td>\n",
       "      <td>snicket offic chart film adapt lemoni snicket ...</td>\n",
       "    </tr>\n",
       "    <tr>\n",
       "      <th>2209</th>\n",
       "      <td>3</td>\n",
       "      <td>time to get tough on friendlies  for an intern...</td>\n",
       "      <td>time tough friend intern manag friend provid i...</td>\n",
       "    </tr>\n",
       "    <tr>\n",
       "      <th>2210</th>\n",
       "      <td>2</td>\n",
       "      <td>teens  know little  of politics teenagers ques...</td>\n",
       "      <td>teen know littl polit teenag question survey s...</td>\n",
       "    </tr>\n",
       "    <tr>\n",
       "      <th>2211</th>\n",
       "      <td>1</td>\n",
       "      <td>lopez misses uk charity premiere jennifer lope...</td>\n",
       "      <td>lopez miss chariti premier jennif lopez cancel...</td>\n",
       "    </tr>\n",
       "    <tr>\n",
       "      <th>2212</th>\n",
       "      <td>0</td>\n",
       "      <td>christmas shoppers flock to tills shops all ov...</td>\n",
       "      <td>christma shopper flock till shop report strong...</td>\n",
       "    </tr>\n",
       "    <tr>\n",
       "      <th>2214</th>\n",
       "      <td>0</td>\n",
       "      <td>bush budget seeks deep cutbacks president bush...</td>\n",
       "      <td>bush budget seek deep cutback presid bush pres...</td>\n",
       "    </tr>\n",
       "    <tr>\n",
       "      <th>2216</th>\n",
       "      <td>1</td>\n",
       "      <td>top stars join us tsunami tv show brad pitt  r...</td>\n",
       "      <td>star join tsunami show brad pitt robert niro h...</td>\n",
       "    </tr>\n",
       "    <tr>\n",
       "      <th>2218</th>\n",
       "      <td>3</td>\n",
       "      <td>davies favours gloucester future wales hooker ...</td>\n",
       "      <td>davi favour gloucest futur wale hooker mefin d...</td>\n",
       "    </tr>\n",
       "    <tr>\n",
       "      <th>2219</th>\n",
       "      <td>0</td>\n",
       "      <td>beijingers fume over parking fees choking traf...</td>\n",
       "      <td>beijing fume park choke traffic beij prompt of...</td>\n",
       "    </tr>\n",
       "    <tr>\n",
       "      <th>2220</th>\n",
       "      <td>0</td>\n",
       "      <td>cars pull down us retail figures us retail sal...</td>\n",
       "      <td>pull retail figur retail sale fell januari big...</td>\n",
       "    </tr>\n",
       "    <tr>\n",
       "      <th>2221</th>\n",
       "      <td>2</td>\n",
       "      <td>kilroy unveils immigration policy ex-chatshow ...</td>\n",
       "      <td>kilroy unveil immigr polici chatshow host robe...</td>\n",
       "    </tr>\n",
       "    <tr>\n",
       "      <th>2222</th>\n",
       "      <td>1</td>\n",
       "      <td>rem announce new glasgow concert us band rem h...</td>\n",
       "      <td>announc glasgow concert band announc plan perf...</td>\n",
       "    </tr>\n",
       "    <tr>\n",
       "      <th>2223</th>\n",
       "      <td>2</td>\n",
       "      <td>how political squabbles snowball it s become c...</td>\n",
       "      <td>polit squabbl snowbal becom commonplac argu bl...</td>\n",
       "    </tr>\n",
       "    <tr>\n",
       "      <th>2224</th>\n",
       "      <td>3</td>\n",
       "      <td>souness delight at euro progress boss graeme s...</td>\n",
       "      <td>souness delight euro progress graem souness fe...</td>\n",
       "    </tr>\n",
       "  </tbody>\n",
       "</table>\n",
       "<p>2027 rows × 3 columns</p>\n",
       "</div>"
      ],
      "text/plain": [
       "      category                                               text  \\\n",
       "0            4  tv future in the hands of viewers with home th...   \n",
       "1            0  worldcom boss  left books alone  former worldc...   \n",
       "2            3  tigers wary of farrell  gamble  leicester say ...   \n",
       "3            3  yeading face newcastle in fa cup premiership s...   \n",
       "5            2  howard hits back at mongrel jibe michael howar...   \n",
       "6            2  blair prepares to name poll date tony blair is...   \n",
       "7            3  henman hopes ended in dubai third seed tim hen...   \n",
       "8            3  wilkinson fit to face edinburgh england captai...   \n",
       "9            1  last star wars  not for children  the sixth an...   \n",
       "10           1  berlin cheers for anti-nazi film a german movi...   \n",
       "11           0  virgin blue shares plummet 20% shares in austr...   \n",
       "12           0  crude oil prices back above $50 cold weather a...   \n",
       "14           3  moya emotional after davis cup win carlos moya...   \n",
       "15           0  s korean credit card firm rescued south korea ...   \n",
       "16           2  howard backs stem cell research michael howard...   \n",
       "17           3  connors boost for british tennis former world ...   \n",
       "18           0  japanese banking battle at an end japan s sumi...   \n",
       "19           4  games maker fights for survival one of britain...   \n",
       "21           4  halo 2 heralds traffic explosion the growing p...   \n",
       "22           3  bates seals takeover ken bates has completed h...   \n",
       "23           3  cole faces lengthy injury lay-off aston villa ...   \n",
       "24           4  mobile audio enters new dimension as mobile ph...   \n",
       "25           3  moya fights back for indian title carlos moya ...   \n",
       "26           1  career honour for actor dicaprio actor leonard...   \n",
       "27           4  mobile gig aims to rock 3g forget about going ...   \n",
       "28           2  terror suspects face house arrest uk citizens ...   \n",
       "29           1  halloween writer debra hill dies screenwriter ...   \n",
       "30           2  royal couple watch nation s mood prince charle...   \n",
       "31           4  firefox browser takes on microsoft microsoft s...   \n",
       "32           1  celebrities get their skates on former england...   \n",
       "...        ...                                                ...   \n",
       "2189         4  mobile networks seek turbo boost third-generat...   \n",
       "2190         3  newry to fight cup exit in courts newry city a...   \n",
       "2191         0  iraqi voters turn to economic issues beyond th...   \n",
       "2193         0  us consumer confidence up consumers  confidenc...   \n",
       "2194         0  india-pakistan peace boosts trade calmer relat...   \n",
       "2195         3  owen delighted with real display michael owen ...   \n",
       "2196         0  gm issues 2005 profits warning general motors ...   \n",
       "2197         2  campbell returns to election team ex-downing s...   \n",
       "2198         0  asian banks halt dollar s slide the dollar reg...   \n",
       "2199         0  wall street cool to ebay s profit shares in on...   \n",
       "2200         4  uk pioneers digital film network the world s f...   \n",
       "2201         0  ban on forced retirement under 65 employers wi...   \n",
       "2202         4  local net tv takes off in austria an austrian ...   \n",
       "2203         2  profile: david miliband david miliband s rapid...   \n",
       "2204         4  argonaut founder rebuilds empire jez san  the ...   \n",
       "2205         1  dance music not dead says fatboy dj norman coo...   \n",
       "2208         1  snicket tops us box office chart the film adap...   \n",
       "2209         3  time to get tough on friendlies  for an intern...   \n",
       "2210         2  teens  know little  of politics teenagers ques...   \n",
       "2211         1  lopez misses uk charity premiere jennifer lope...   \n",
       "2212         0  christmas shoppers flock to tills shops all ov...   \n",
       "2214         0  bush budget seeks deep cutbacks president bush...   \n",
       "2216         1  top stars join us tsunami tv show brad pitt  r...   \n",
       "2218         3  davies favours gloucester future wales hooker ...   \n",
       "2219         0  beijingers fume over parking fees choking traf...   \n",
       "2220         0  cars pull down us retail figures us retail sal...   \n",
       "2221         2  kilroy unveils immigration policy ex-chatshow ...   \n",
       "2222         1  rem announce new glasgow concert us band rem h...   \n",
       "2223         2  how political squabbles snowball it s become c...   \n",
       "2224         3  souness delight at euro progress boss graeme s...   \n",
       "\n",
       "                                             clean_text  \n",
       "0     futur hand viewer home theatr system plasma hi...  \n",
       "1     worldcom left book alon former worldcom berni ...  \n",
       "2     tiger wari farrel gambl leicest rush make andi...  \n",
       "3     yead face newcastl premiership side newcastl u...  \n",
       "5     howard back mongrel jibe michael howard said c...  \n",
       "6     blair prepar name poll date toni blair like na...  \n",
       "7     henman hope dubai third seed henman slump stra...  \n",
       "8     wilkinson face edinburgh england captain jonni...  \n",
       "9     last star child sixth final star movi suitabl ...  \n",
       "10    berlin cheer anti nazi film german movi anti n...  \n",
       "11    virgin blue share plummet share australian bud...  \n",
       "12    crude price back cold weather across part unit...  \n",
       "14    moya emot davi carlo moya describ spain davi v...  \n",
       "15    korean credit card firm rescu south korea larg...  \n",
       "16    howard back stem cell research michael howard ...  \n",
       "17    connor boost british tenni former world number...  \n",
       "18    japanes bank battl japan sumitomo mitsui finan...  \n",
       "19    game maker fight surviv britain largest indepe...  \n",
       "21    halo herald traffic explos grow popular onlin ...  \n",
       "22    bate seal takeov bate complet takeov leed unit...  \n",
       "23    cole face lengthi injuri aston villa carlton c...  \n",
       "24    mobil audio enter dimens mobil phone move clos...  \n",
       "25    moya fight back indian titl carlo moya becam f...  \n",
       "26    career honour actor dicaprio actor leonardo di...  \n",
       "27    mobil rock forget crowd enjoy latest darl musi...  \n",
       "28    terror suspect face hous arrest citizen suspec...  \n",
       "29    halloween writer debra hill screenwrit produc ...  \n",
       "30    royal coupl watch nation mood princ charl cami...  \n",
       "31    firefox browser take microsoft microsoft inter...  \n",
       "32    celebr skate former england footbal paul gasco...  \n",
       "...                                                 ...  \n",
       "2189  mobil network seek turbo boost third generat m...  \n",
       "2190  newri fight exit court newri citi expect discu...  \n",
       "2191  iraqi voter turn econom issu beyond desper sec...  \n",
       "2193  consum confid consum confid state economi high...  \n",
       "2194  india pakistan peac boost trade calmer relat i...  \n",
       "2195  owen delight real display michael owen revel r...  \n",
       "2196  issu profit warn general motor warn expect ear...  \n",
       "2197  campbel return elect team down street medium c...  \n",
       "2198  asian bank halt dollar slide dollar regain los...  \n",
       "2199  wall street cool ebay profit share onlin aucti...  \n",
       "2200  pioneer digit film network world first digit c...  \n",
       "2201  forc retir employ longer forc worker retir unl...  \n",
       "2202  local take austria austrian villag test techno...  \n",
       "2203  profil david miliband david miliband rapid ris...  \n",
       "2204  argonaut founder rebuild empir behind argonaut...  \n",
       "2205  danc music dead fatboy norman cook fatboy slim...  \n",
       "2208  snicket offic chart film adapt lemoni snicket ...  \n",
       "2209  time tough friend intern manag friend provid i...  \n",
       "2210  teen know littl polit teenag question survey s...  \n",
       "2211  lopez miss chariti premier jennif lopez cancel...  \n",
       "2212  christma shopper flock till shop report strong...  \n",
       "2214  bush budget seek deep cutback presid bush pres...  \n",
       "2216  star join tsunami show brad pitt robert niro h...  \n",
       "2218  davi favour gloucest futur wale hooker mefin d...  \n",
       "2219  beijing fume park choke traffic beij prompt of...  \n",
       "2220  pull retail figur retail sale fell januari big...  \n",
       "2221  kilroy unveil immigr polici chatshow host robe...  \n",
       "2222  announc glasgow concert band announc plan perf...  \n",
       "2223  polit squabbl snowbal becom commonplac argu bl...  \n",
       "2224  souness delight euro progress graem souness fe...  \n",
       "\n",
       "[2027 rows x 3 columns]"
      ]
     },
     "execution_count": 15,
     "metadata": {},
     "output_type": "execute_result"
    }
   ],
   "source": [
    "data"
   ]
  },
  {
   "cell_type": "code",
   "execution_count": 16,
   "metadata": {},
   "outputs": [
    {
     "name": "stdout",
     "output_type": "stream",
     "text": [
      "4333\n"
     ]
    }
   ],
   "source": [
    "print(len(data['text'][0]))"
   ]
  },
  {
   "cell_type": "code",
   "execution_count": 17,
   "metadata": {},
   "outputs": [
    {
     "name": "stdout",
     "output_type": "stream",
     "text": [
      "futur hand viewer home theatr system plasma high definit digit video record move live room peopl watch radic differ five year time accord expert panel gather annual consum electron show vega discus technolog impact favourit pastim lead trend programm content deliv viewer home network cabl satellit telecom compani broadband servic provid front room portabl devic talk technolog digit person video record like tivo system allow peopl record store play paus forward wind programm want essenti technolog allow much personalis also built high definit busi japan slower take europ lack high definit program peopl forward wind advert also forget abid network channel schedul togeth cart entertain network cabl satellit compani worri mean term advertis revenu well brand ident viewer loyalti channel although lead technolog moment also concern rais europ particular grow uptak servic like happen today nine month year time adam hume broadcast futurologist told news websit like issu lost advertis revenu press issu moment commerci broadcast brand loyalti import everyon talk content brand rather network brand said hanlon brand communic firm starcom mediavest realiti broadband connect anybodi produc content challeng hard promot programm much choic mean said stacey jolna senior vice presid guid group peopl find content want watch simplifi viewer mean network term channel could take leaf googl book search engin futur instead schedul help peopl find want watch kind channel model might work younger ipod generat take control gadget play might suit everyon panel recognis older generat comfort familiar schedul channel brand know perhap want much choic hand hanlon suggest diaper push button alreadi everyth possibl avail said hanlon ultim consum tell market want gadget technolog showcas mani enhanc watch experi high definit everywher mani model liquid crystal display launch capabl built instead extern exampl launch show humax inch hour tivo record biggest satellit compani directtv even launch brand show hour record capabl instant replay search function paus rewind hour microsoft chief bill gate announc show keynot speech partnership tivo call tivotogo mean peopl play record programm window mobil devic reflect increas trend free multimedia peopl watch want want\n"
     ]
    }
   ],
   "source": [
    "print((data['clean_text'][0]))"
   ]
  },
  {
   "cell_type": "code",
   "execution_count": null,
   "metadata": {},
   "outputs": [],
   "source": []
  },
  {
   "cell_type": "code",
   "execution_count": 35,
   "metadata": {},
   "outputs": [],
   "source": [
    "from sklearn.feature_extraction.text import TfidfVectorizer,CountVectorizer\n",
    "\n",
    "Train_Vector = TfidfVectorizer() # Tf-Idf\n",
    "tfs = Train_Vector.fit_transform(data['clean_text'])"
   ]
  },
  {
   "cell_type": "code",
   "execution_count": 36,
   "metadata": {},
   "outputs": [
    {
     "name": "stdout",
     "output_type": "stream",
     "text": [
      "  (0, 5911)\t0.05586485406199641\n",
      "  (0, 6653)\t0.05759279001731167\n",
      "  (0, 16436)\t0.1645177544592633\n",
      "  (0, 7092)\t0.048253069494908235\n",
      "  (0, 15303)\t0.04421027340682526\n",
      "  (0, 15020)\t0.05881547382924406\n",
      "  (0, 11622)\t0.06184956502954957\n",
      "  (0, 6980)\t0.09678978485011976\n",
      "  (0, 3865)\t0.14920649674328768\n",
      "  (0, 4114)\t0.06864759924839545\n",
      "  (0, 16426)\t0.06711852750400822\n",
      "  (0, 12434)\t0.1531432815005346\n",
      "  (0, 10163)\t0.02360056008342351\n",
      "  (0, 8922)\t0.029492455313742973\n",
      "  (0, 12977)\t0.08225887722963166\n",
      "  (0, 11378)\t0.13104153475279845\n",
      "  (0, 16646)\t0.1708995542275153\n",
      "  (0, 12222)\t0.048913036799344785\n",
      "  (0, 4106)\t0.029117306493474746\n",
      "  (0, 5528)\t0.024268916775084543\n",
      "  (0, 17128)\t0.025615120971387587\n",
      "  (0, 15427)\t0.03283815629510727\n",
      "  (0, 86)\t0.026789421335332568\n",
      "  (0, 5143)\t0.03720145960064149\n",
      "  (0, 11142)\t0.08490057487589939\n",
      "  :\t:\n",
      "  (2026, 11095)\t0.07910828071514446\n",
      "  (2026, 11808)\t0.060337360549828065\n",
      "  (2026, 4589)\t0.12344574893660784\n",
      "  (2026, 11651)\t0.09216686957430376\n",
      "  (2026, 16830)\t0.06989888729948451\n",
      "  (2026, 1099)\t0.08248607660830284\n",
      "  (2026, 11074)\t0.08917176615868305\n",
      "  (2026, 12906)\t0.07659147130117422\n",
      "  (2026, 6024)\t0.077521300041779\n",
      "  (2026, 12730)\t0.08273359221874592\n",
      "  (2026, 3706)\t0.09024156180855628\n",
      "  (2026, 15855)\t0.22034717911328255\n",
      "  (2026, 189)\t0.08719415765432613\n",
      "  (2026, 15685)\t0.10334602958551782\n",
      "  (2026, 6262)\t0.11122410013032925\n",
      "  (2026, 7869)\t0.12698024121995213\n",
      "  (2026, 9874)\t0.0793160871095147\n",
      "  (2026, 9203)\t0.12469175068074771\n",
      "  (2026, 14218)\t0.4764086827005628\n",
      "  (2026, 13686)\t0.2651396424511183\n",
      "  (2026, 648)\t0.11476655559083575\n",
      "  (2026, 242)\t0.13256982122555916\n",
      "  (2026, 6371)\t0.1175469638643943\n",
      "  (2026, 8633)\t0.13611227668606565\n",
      "  (2026, 6864)\t0.15391554232078908\n"
     ]
    }
   ],
   "source": [
    "print(tfs)\n",
    "x=tfs\n",
    "y=data['category']"
   ]
  },
  {
   "cell_type": "code",
   "execution_count": 37,
   "metadata": {},
   "outputs": [
    {
     "name": "stdout",
     "output_type": "stream",
     "text": [
      "(1418, 17248)\n",
      "(1418,)\n",
      "(609, 17248)\n",
      "(609,)\n"
     ]
    }
   ],
   "source": [
    "from sklearn.model_selection import train_test_split\n",
    "x_train, x_test, y_train, y_test = train_test_split(x, y, test_size=0.3, \\\n",
    "                                                    random_state=0)\n",
    "\n",
    "print(x_train.shape)\n",
    "print(y_train.shape)\n",
    "print(x_test.shape)\n",
    "print(y_test.shape)"
   ]
  },
  {
   "cell_type": "code",
   "execution_count": 38,
   "metadata": {},
   "outputs": [
    {
     "data": {
      "text/plain": [
       "LogisticRegression(C=1.0, class_weight=None, dual=False, fit_intercept=True,\n",
       "          intercept_scaling=1, max_iter=100, multi_class='ovr', n_jobs=1,\n",
       "          penalty='l2', random_state=None, solver='liblinear', tol=0.0001,\n",
       "          verbose=0, warm_start=False)"
      ]
     },
     "execution_count": 38,
     "metadata": {},
     "output_type": "execute_result"
    }
   ],
   "source": [
    "from sklearn.linear_model import LogisticRegression\n",
    "\n",
    "Regressor1 = LogisticRegression()\n",
    "Regressor1.fit(x_train,y_train)"
   ]
  },
  {
   "cell_type": "code",
   "execution_count": 39,
   "metadata": {},
   "outputs": [],
   "source": [
    "y_pred1 = Regressor1.predict(x_test)\n"
   ]
  },
  {
   "cell_type": "code",
   "execution_count": 40,
   "metadata": {},
   "outputs": [
    {
     "name": "stdout",
     "output_type": "stream",
     "text": [
      "Accuracy score: 0.9523809523809523\n"
     ]
    }
   ],
   "source": [
    "from sklearn.metrics import confusion_matrix , classification_report , accuracy_score\n",
    "score_1=accuracy_score(y_test,y_pred1)\n",
    "print('Accuracy score:',score_1)"
   ]
  },
  {
   "cell_type": "code",
   "execution_count": 79,
   "metadata": {},
   "outputs": [
    {
     "name": "stdout",
     "output_type": "stream",
     "text": [
      "0.5129376465265696\n"
     ]
    }
   ],
   "source": [
    "pred = Regressor1.predict_proba(x_test)\n",
    "from sklearn.metrics import log_loss\n",
    "i=log_loss(y_test,pred)\n",
    "print(i)"
   ]
  },
  {
   "cell_type": "code",
   "execution_count": 82,
   "metadata": {},
   "outputs": [
    {
     "data": {
      "text/plain": [
       "[<matplotlib.lines.Line2D at 0x151230c1400>]"
      ]
     },
     "execution_count": 82,
     "metadata": {},
     "output_type": "execute_result"
    },
    {
     "data": {
      "image/png": "[encoded data removed]",
      "text/plain": [
       "<Figure size 432x288 with 1 Axes>"
      ]
     },
     "metadata": {},
     "output_type": "display_data"
    }
   ],
   "source": [
    "plt.plot()\n"
   ]
  },
  {
   "cell_type": "code",
   "execution_count": 50,
   "metadata": {},
   "outputs": [
    {
     "data": {
      "text/plain": [
       "KNeighborsClassifier(algorithm='auto', leaf_size=30, metric='minkowski',\n",
       "           metric_params=None, n_jobs=1, n_neighbors=7, p=2,\n",
       "           weights='uniform')"
      ]
     },
     "execution_count": 50,
     "metadata": {},
     "output_type": "execute_result"
    }
   ],
   "source": [
    "from sklearn.neighbors import KNeighborsClassifier\n",
    "\n",
    "Regressor2 = KNeighborsClassifier(n_neighbors=7)\n",
    "Regressor2.fit(x_train,y_train)"
   ]
  },
  {
   "cell_type": "code",
   "execution_count": 51,
   "metadata": {},
   "outputs": [],
   "source": [
    "y_pred2 = Regressor2.predict(x_test)"
   ]
  },
  {
   "cell_type": "code",
   "execution_count": 52,
   "metadata": {},
   "outputs": [
    {
     "name": "stdout",
     "output_type": "stream",
     "text": [
      "Accuracy score: 0.9523809523809523\n"
     ]
    }
   ],
   "source": [
    "score_2=accuracy_score(y_test,y_pred2)\n",
    "print('Accuracy score:',score_1)"
   ]
  },
  {
   "cell_type": "code",
   "execution_count": 53,
   "metadata": {},
   "outputs": [
    {
     "data": {
      "text/plain": [
       "0.45629353056349664"
      ]
     },
     "execution_count": 53,
     "metadata": {},
     "output_type": "execute_result"
    }
   ],
   "source": [
    "pred2 = Regressor2.predict_proba(x_test)\n",
    "from sklearn.metrics import log_loss\n",
    "log_loss(y_test,pred2)"
   ]
  },
  {
   "cell_type": "code",
   "execution_count": null,
   "metadata": {},
   "outputs": [],
   "source": []
  },
  {
   "cell_type": "code",
   "execution_count": 56,
   "metadata": {},
   "outputs": [
    {
     "data": {
      "text/plain": [
       "MultinomialNB(alpha=1.0, class_prior=None, fit_prior=True)"
      ]
     },
     "execution_count": 56,
     "metadata": {},
     "output_type": "execute_result"
    }
   ],
   "source": [
    "from sklearn.naive_bayes import MultinomialNB\n",
    "Regressor3 = MultinomialNB()\n",
    "Regressor3.fit(x_train,y_train)"
   ]
  },
  {
   "cell_type": "code",
   "execution_count": 57,
   "metadata": {},
   "outputs": [],
   "source": [
    "y_pred3 = Regressor3.predict(x_test)"
   ]
  },
  {
   "cell_type": "code",
   "execution_count": 58,
   "metadata": {},
   "outputs": [
    {
     "name": "stdout",
     "output_type": "stream",
     "text": [
      "Accuracy score: 0.9310344827586207\n"
     ]
    }
   ],
   "source": [
    "score_3=accuracy_score(y_test,y_pred3)\n",
    "print('Accuracy score:',score_3)"
   ]
  },
  {
   "cell_type": "code",
   "execution_count": 59,
   "metadata": {},
   "outputs": [
    {
     "data": {
      "text/plain": [
       "0.33942629561928234"
      ]
     },
     "execution_count": 59,
     "metadata": {},
     "output_type": "execute_result"
    }
   ],
   "source": [
    "pred3 = Regressor3.predict_proba(x_test)\n",
    "from sklearn.metrics import log_loss\n",
    "log_loss(y_test,pred3)"
   ]
  },
  {
   "cell_type": "code",
   "execution_count": 61,
   "metadata": {},
   "outputs": [
    {
     "data": {
      "text/plain": [
       "DecisionTreeClassifier(class_weight=None, criterion='gini', max_depth=None,\n",
       "            max_features=None, max_leaf_nodes=None,\n",
       "            min_impurity_decrease=0.0, min_impurity_split=None,\n",
       "            min_samples_leaf=1, min_samples_split=2,\n",
       "            min_weight_fraction_leaf=0.0, presort=False, random_state=None,\n",
       "            splitter='best')"
      ]
     },
     "execution_count": 61,
     "metadata": {},
     "output_type": "execute_result"
    }
   ],
   "source": [
    "from sklearn.tree import DecisionTreeClassifier\n",
    "\n",
    "Regressor4 = DecisionTreeClassifier(criterion='gini')\n",
    "Regressor4.fit(x_train,y_train)"
   ]
  },
  {
   "cell_type": "code",
   "execution_count": 62,
   "metadata": {},
   "outputs": [],
   "source": [
    "y_pred4 = Regressor4.predict(x_test)"
   ]
  },
  {
   "cell_type": "code",
   "execution_count": 63,
   "metadata": {},
   "outputs": [
    {
     "name": "stdout",
     "output_type": "stream",
     "text": [
      "Accuracy score: 0.825944170771757\n"
     ]
    }
   ],
   "source": [
    "score_4=accuracy_score(y_test,y_pred4)\n",
    "print('Accuracy score:',score_4)"
   ]
  },
  {
   "cell_type": "code",
   "execution_count": 64,
   "metadata": {},
   "outputs": [
    {
     "data": {
      "text/plain": [
       "6.011675365945051"
      ]
     },
     "execution_count": 64,
     "metadata": {},
     "output_type": "execute_result"
    }
   ],
   "source": [
    "pred4 = Regressor4.predict_proba(x_test)\n",
    "from sklearn.metrics import log_loss\n",
    "log_loss(y_test,pred4)"
   ]
  },
  {
   "cell_type": "code",
   "execution_count": null,
   "metadata": {},
   "outputs": [],
   "source": []
  },
  {
   "cell_type": "code",
   "execution_count": 66,
   "metadata": {},
   "outputs": [
    {
     "data": {
      "text/plain": [
       "RandomForestClassifier(bootstrap=True, class_weight=None, criterion='gini',\n",
       "            max_depth=None, max_features='auto', max_leaf_nodes=None,\n",
       "            min_impurity_decrease=0.0, min_impurity_split=None,\n",
       "            min_samples_leaf=1, min_samples_split=2,\n",
       "            min_weight_fraction_leaf=0.0, n_estimators=10, n_jobs=1,\n",
       "            oob_score=False, random_state=None, verbose=0,\n",
       "            warm_start=False)"
      ]
     },
     "execution_count": 66,
     "metadata": {},
     "output_type": "execute_result"
    }
   ],
   "source": [
    "from sklearn.ensemble import RandomForestClassifier\n",
    "\n",
    "Regressor5 = RandomForestClassifier(criterion='gini')\n",
    "Regressor5.fit(x_train,y_train)"
   ]
  },
  {
   "cell_type": "code",
   "execution_count": 67,
   "metadata": {},
   "outputs": [],
   "source": [
    "y_pred5 = Regressor5.predict(x_test)"
   ]
  },
  {
   "cell_type": "code",
   "execution_count": 68,
   "metadata": {},
   "outputs": [
    {
     "name": "stdout",
     "output_type": "stream",
     "text": [
      "Accuracy score: 0.8735632183908046\n"
     ]
    }
   ],
   "source": [
    "score_5=accuracy_score(y_test,y_pred5)\n",
    "print('Accuracy score:',score_5)"
   ]
  },
  {
   "cell_type": "code",
   "execution_count": 69,
   "metadata": {},
   "outputs": [
    {
     "data": {
      "text/plain": [
       "0.5861017220225039"
      ]
     },
     "execution_count": 69,
     "metadata": {},
     "output_type": "execute_result"
    }
   ],
   "source": [
    "pred5 = Regressor5.predict_proba(x_test)\n",
    "from sklearn.metrics import log_loss\n",
    "log_loss(y_test,pred5)"
   ]
  },
  {
   "cell_type": "code",
   "execution_count": null,
   "metadata": {},
   "outputs": [],
   "source": []
  },
  {
   "cell_type": "code",
   "execution_count": 70,
   "metadata": {},
   "outputs": [
    {
     "data": {
      "text/plain": [
       "SVC(C=1.0, cache_size=200, class_weight=None, coef0=0.0,\n",
       "  decision_function_shape='ovr', degree=3, gamma='auto', kernel='linear',\n",
       "  max_iter=-1, probability=False, random_state=None, shrinking=True,\n",
       "  tol=0.001, verbose=False)"
      ]
     },
     "execution_count": 70,
     "metadata": {},
     "output_type": "execute_result"
    }
   ],
   "source": [
    "from sklearn.svm import SVC\n",
    "\n",
    "Regressor6 = SVC(kernel='linear')\n",
    "Regressor6.fit(x_train,y_train)"
   ]
  },
  {
   "cell_type": "code",
   "execution_count": 71,
   "metadata": {},
   "outputs": [],
   "source": [
    "y_pred6 = Regressor6.predict(x_test)\n"
   ]
  },
  {
   "cell_type": "code",
   "execution_count": 72,
   "metadata": {},
   "outputs": [
    {
     "name": "stdout",
     "output_type": "stream",
     "text": [
      "Accuracy score: 0.9671592775041051\n"
     ]
    }
   ],
   "source": [
    "score_6=accuracy_score(y_test,y_pred6)\n",
    "print('Accuracy score:',score_6)"
   ]
  },
  {
   "cell_type": "code",
   "execution_count": 73,
   "metadata": {},
   "outputs": [
    {
     "ename": "AttributeError",
     "evalue": "predict_proba is not available when  probability=False",
     "output_type": "error",
     "traceback": [
      "\u001b[1;31m---------------------------------------------------------------------------\u001b[0m",
      "\u001b[1;31mAttributeError\u001b[0m                            Traceback (most recent call last)",
      "\u001b[1;32m<ipython-input-73-17523139ba48>\u001b[0m in \u001b[0;36m<module>\u001b[1;34m()\u001b[0m\n\u001b[1;32m----> 1\u001b[1;33m \u001b[0mpred6\u001b[0m \u001b[1;33m=\u001b[0m \u001b[0mRegressor6\u001b[0m\u001b[1;33m.\u001b[0m\u001b[0mpredict_proba\u001b[0m\u001b[1;33m(\u001b[0m\u001b[0mx_test\u001b[0m\u001b[1;33m)\u001b[0m\u001b[1;33m\u001b[0m\u001b[0m\n\u001b[0m\u001b[0;32m      2\u001b[0m \u001b[1;32mfrom\u001b[0m \u001b[0msklearn\u001b[0m\u001b[1;33m.\u001b[0m\u001b[0mmetrics\u001b[0m \u001b[1;32mimport\u001b[0m \u001b[0mlog_loss\u001b[0m\u001b[1;33m\u001b[0m\u001b[0m\n\u001b[0;32m      3\u001b[0m \u001b[0mlog_loss\u001b[0m\u001b[1;33m(\u001b[0m\u001b[0my_test\u001b[0m\u001b[1;33m,\u001b[0m\u001b[0mpred6\u001b[0m\u001b[1;33m)\u001b[0m\u001b[1;33m\u001b[0m\u001b[0m\n",
      "\u001b[1;32m~\\Anaconda3\\lib\\site-packages\\sklearn\\svm\\base.py\u001b[0m in \u001b[0;36mpredict_proba\u001b[1;34m(self)\u001b[0m\n\u001b[0;32m    588\u001b[0m         \u001b[0mdatasets\u001b[0m\u001b[1;33m.\u001b[0m\u001b[1;33m\u001b[0m\u001b[0m\n\u001b[0;32m    589\u001b[0m         \"\"\"\n\u001b[1;32m--> 590\u001b[1;33m         \u001b[0mself\u001b[0m\u001b[1;33m.\u001b[0m\u001b[0m_check_proba\u001b[0m\u001b[1;33m(\u001b[0m\u001b[1;33m)\u001b[0m\u001b[1;33m\u001b[0m\u001b[0m\n\u001b[0m\u001b[0;32m    591\u001b[0m         \u001b[1;32mreturn\u001b[0m \u001b[0mself\u001b[0m\u001b[1;33m.\u001b[0m\u001b[0m_predict_proba\u001b[0m\u001b[1;33m\u001b[0m\u001b[0m\n\u001b[0;32m    592\u001b[0m \u001b[1;33m\u001b[0m\u001b[0m\n",
      "\u001b[1;32m~\\Anaconda3\\lib\\site-packages\\sklearn\\svm\\base.py\u001b[0m in \u001b[0;36m_check_proba\u001b[1;34m(self)\u001b[0m\n\u001b[0;32m    555\u001b[0m     \u001b[1;32mdef\u001b[0m \u001b[0m_check_proba\u001b[0m\u001b[1;33m(\u001b[0m\u001b[0mself\u001b[0m\u001b[1;33m)\u001b[0m\u001b[1;33m:\u001b[0m\u001b[1;33m\u001b[0m\u001b[0m\n\u001b[0;32m    556\u001b[0m         \u001b[1;32mif\u001b[0m \u001b[1;32mnot\u001b[0m \u001b[0mself\u001b[0m\u001b[1;33m.\u001b[0m\u001b[0mprobability\u001b[0m\u001b[1;33m:\u001b[0m\u001b[1;33m\u001b[0m\u001b[0m\n\u001b[1;32m--> 557\u001b[1;33m             raise AttributeError(\"predict_proba is not available when \"\n\u001b[0m\u001b[0;32m    558\u001b[0m                                  \" probability=False\")\n\u001b[0;32m    559\u001b[0m         \u001b[1;32mif\u001b[0m \u001b[0mself\u001b[0m\u001b[1;33m.\u001b[0m\u001b[0m_impl\u001b[0m \u001b[1;32mnot\u001b[0m \u001b[1;32min\u001b[0m \u001b[1;33m(\u001b[0m\u001b[1;34m'c_svc'\u001b[0m\u001b[1;33m,\u001b[0m \u001b[1;34m'nu_svc'\u001b[0m\u001b[1;33m)\u001b[0m\u001b[1;33m:\u001b[0m\u001b[1;33m\u001b[0m\u001b[0m\n",
      "\u001b[1;31mAttributeError\u001b[0m: predict_proba is not available when  probability=False"
     ]
    }
   ],
   "source": [
    "pred6 = Regressor6.predict_proba(x_test)\n",
    "from sklearn.metrics import log_loss\n",
    "log_loss(y_test,pred6)"
   ]
  },
  {
   "cell_type": "code",
   "execution_count": null,
   "metadata": {},
   "outputs": [],
   "source": []
  }
 ],
 "metadata": {
  "kernelspec": {
   "display_name": "Python 3",
   "language": "python",
   "name": "python3"
  },
  "language_info": {
   "codemirror_mode": {
    "name": "ipython",
    "version": 3
   },
   "file_extension": ".py",
   "mimetype": "text/x-python",
   "name": "python",
   "nbconvert_exporter": "python",
   "pygments_lexer": "ipython3",
   "version": "3.6.5"
  }
 },
 "nbformat": 4,
 "nbformat_minor": 2
}
